{
 "cells": [
  {
   "cell_type": "code",
   "execution_count": 1,
   "id": "6174129e",
   "metadata": {},
   "outputs": [],
   "source": [
    "import pandas as pd\n",
    "import numpy as np\n",
    "import matplotlib.pyplot as plt\n",
    "from sklearn.decomposition import PCA\n",
    "from sklearn.neighbors import KNeighborsRegressor\n",
    "from sklearn.ensemble import RandomForestRegressor\n",
    "from sklearn.model_selection import train_test_split\n",
    "from sklearn.preprocessing import LabelEncoder,StandardScaler,OneHotEncoder"
   ]
  },
  {
   "cell_type": "code",
   "execution_count": 2,
   "id": "564ed97f",
   "metadata": {},
   "outputs": [
    {
     "data": {
      "text/plain": [
       "(2888, 39)"
      ]
     },
     "execution_count": 2,
     "metadata": {},
     "output_type": "execute_result"
    }
   ],
   "source": [
    "data=pd.read_csv('./data/zhengqi.txt',sep='\\s+')\n",
    "data.shape"
   ]
  },
  {
   "cell_type": "code",
   "execution_count": 3,
   "id": "19689b24",
   "metadata": {},
   "outputs": [
    {
     "data": {
      "text/html": [
       "<div>\n",
       "<style scoped>\n",
       "    .dataframe tbody tr th:only-of-type {\n",
       "        vertical-align: middle;\n",
       "    }\n",
       "\n",
       "    .dataframe tbody tr th {\n",
       "        vertical-align: top;\n",
       "    }\n",
       "\n",
       "    .dataframe thead th {\n",
       "        text-align: right;\n",
       "    }\n",
       "</style>\n",
       "<table border=\"1\" class=\"dataframe\">\n",
       "  <thead>\n",
       "    <tr style=\"text-align: right;\">\n",
       "      <th></th>\n",
       "      <th>V0</th>\n",
       "      <th>V1</th>\n",
       "      <th>V2</th>\n",
       "      <th>V3</th>\n",
       "      <th>V4</th>\n",
       "      <th>V5</th>\n",
       "      <th>V6</th>\n",
       "      <th>V7</th>\n",
       "      <th>V8</th>\n",
       "      <th>V9</th>\n",
       "      <th>...</th>\n",
       "      <th>V29</th>\n",
       "      <th>V30</th>\n",
       "      <th>V31</th>\n",
       "      <th>V32</th>\n",
       "      <th>V33</th>\n",
       "      <th>V34</th>\n",
       "      <th>V35</th>\n",
       "      <th>V36</th>\n",
       "      <th>V37</th>\n",
       "      <th>target</th>\n",
       "    </tr>\n",
       "  </thead>\n",
       "  <tbody>\n",
       "    <tr>\n",
       "      <th>0</th>\n",
       "      <td>0.016</td>\n",
       "      <td>-0.143</td>\n",
       "      <td>0.452</td>\n",
       "      <td>-0.901</td>\n",
       "      <td>-1.812</td>\n",
       "      <td>-2.360</td>\n",
       "      <td>-0.436</td>\n",
       "      <td>-2.114</td>\n",
       "      <td>-0.940</td>\n",
       "      <td>-0.307</td>\n",
       "      <td>...</td>\n",
       "      <td>-0.615</td>\n",
       "      <td>0.327</td>\n",
       "      <td>-4.627</td>\n",
       "      <td>-4.789</td>\n",
       "      <td>-5.101</td>\n",
       "      <td>-2.608</td>\n",
       "      <td>-3.508</td>\n",
       "      <td>0.175</td>\n",
       "      <td>NaN</td>\n",
       "      <td>NaN</td>\n",
       "    </tr>\n",
       "    <tr>\n",
       "      <th>1</th>\n",
       "      <td>1000.968</td>\n",
       "      <td>0.437</td>\n",
       "      <td>0.066</td>\n",
       "      <td>0.566</td>\n",
       "      <td>0.194</td>\n",
       "      <td>-0.893</td>\n",
       "      <td>-1.566</td>\n",
       "      <td>-2.360</td>\n",
       "      <td>0.332</td>\n",
       "      <td>-2.114</td>\n",
       "      <td>...</td>\n",
       "      <td>-0.128</td>\n",
       "      <td>0.124</td>\n",
       "      <td>0.032</td>\n",
       "      <td>0.600</td>\n",
       "      <td>-0.843</td>\n",
       "      <td>0.160</td>\n",
       "      <td>0.364</td>\n",
       "      <td>-0.335</td>\n",
       "      <td>-0.730</td>\n",
       "      <td>0.676</td>\n",
       "    </tr>\n",
       "    <tr>\n",
       "      <th>2</th>\n",
       "      <td>1.013</td>\n",
       "      <td>0.568</td>\n",
       "      <td>0.235</td>\n",
       "      <td>0.370</td>\n",
       "      <td>0.112</td>\n",
       "      <td>-0.797</td>\n",
       "      <td>-1.367</td>\n",
       "      <td>-2.360</td>\n",
       "      <td>0.396</td>\n",
       "      <td>-2.114</td>\n",
       "      <td>...</td>\n",
       "      <td>-0.009</td>\n",
       "      <td>0.361</td>\n",
       "      <td>0.277</td>\n",
       "      <td>-0.116</td>\n",
       "      <td>-0.843</td>\n",
       "      <td>0.160</td>\n",
       "      <td>0.364</td>\n",
       "      <td>0.765</td>\n",
       "      <td>-0.589</td>\n",
       "      <td>0.633</td>\n",
       "    </tr>\n",
       "    <tr>\n",
       "      <th>3</th>\n",
       "      <td>0.733</td>\n",
       "      <td>0.368</td>\n",
       "      <td>0.283</td>\n",
       "      <td>0.165</td>\n",
       "      <td>0.599</td>\n",
       "      <td>-0.679</td>\n",
       "      <td>-1.200</td>\n",
       "      <td>-2.086</td>\n",
       "      <td>0.403</td>\n",
       "      <td>-2.114</td>\n",
       "      <td>...</td>\n",
       "      <td>0.015</td>\n",
       "      <td>0.417</td>\n",
       "      <td>0.279</td>\n",
       "      <td>0.603</td>\n",
       "      <td>-0.843</td>\n",
       "      <td>-0.065</td>\n",
       "      <td>0.364</td>\n",
       "      <td>0.333</td>\n",
       "      <td>-0.112</td>\n",
       "      <td>0.206</td>\n",
       "    </tr>\n",
       "    <tr>\n",
       "      <th>4</th>\n",
       "      <td>0.684</td>\n",
       "      <td>0.638</td>\n",
       "      <td>0.260</td>\n",
       "      <td>0.209</td>\n",
       "      <td>0.337</td>\n",
       "      <td>-0.454</td>\n",
       "      <td>-1.073</td>\n",
       "      <td>-2.086</td>\n",
       "      <td>0.314</td>\n",
       "      <td>-2.114</td>\n",
       "      <td>...</td>\n",
       "      <td>0.183</td>\n",
       "      <td>1.078</td>\n",
       "      <td>0.328</td>\n",
       "      <td>0.418</td>\n",
       "      <td>-0.843</td>\n",
       "      <td>-0.215</td>\n",
       "      <td>0.364</td>\n",
       "      <td>-0.280</td>\n",
       "      <td>-0.028</td>\n",
       "      <td>0.384</td>\n",
       "    </tr>\n",
       "  </tbody>\n",
       "</table>\n",
       "<p>5 rows × 39 columns</p>\n",
       "</div>"
      ],
      "text/plain": [
       "         V0     V1     V2     V3     V4     V5     V6     V7     V8     V9  \\\n",
       "0     0.016 -0.143  0.452 -0.901 -1.812 -2.360 -0.436 -2.114 -0.940 -0.307   \n",
       "1  1000.968  0.437  0.066  0.566  0.194 -0.893 -1.566 -2.360  0.332 -2.114   \n",
       "2     1.013  0.568  0.235  0.370  0.112 -0.797 -1.367 -2.360  0.396 -2.114   \n",
       "3     0.733  0.368  0.283  0.165  0.599 -0.679 -1.200 -2.086  0.403 -2.114   \n",
       "4     0.684  0.638  0.260  0.209  0.337 -0.454 -1.073 -2.086  0.314 -2.114   \n",
       "\n",
       "   ...    V29    V30    V31    V32    V33    V34    V35    V36    V37  target  \n",
       "0  ... -0.615  0.327 -4.627 -4.789 -5.101 -2.608 -3.508  0.175    NaN     NaN  \n",
       "1  ... -0.128  0.124  0.032  0.600 -0.843  0.160  0.364 -0.335 -0.730   0.676  \n",
       "2  ... -0.009  0.361  0.277 -0.116 -0.843  0.160  0.364  0.765 -0.589   0.633  \n",
       "3  ...  0.015  0.417  0.279  0.603 -0.843 -0.065  0.364  0.333 -0.112   0.206  \n",
       "4  ...  0.183  1.078  0.328  0.418 -0.843 -0.215  0.364 -0.280 -0.028   0.384  \n",
       "\n",
       "[5 rows x 39 columns]"
      ]
     },
     "execution_count": 3,
     "metadata": {},
     "output_type": "execute_result"
    }
   ],
   "source": [
    "data.head()"
   ]
  },
  {
   "cell_type": "markdown",
   "id": "3f44429b",
   "metadata": {},
   "source": [
    "### 空值检查"
   ]
  },
  {
   "cell_type": "code",
   "execution_count": 4,
   "id": "e14b2d40",
   "metadata": {},
   "outputs": [
    {
     "data": {
      "text/plain": [
       "V0        0\n",
       "V1        0\n",
       "V2        0\n",
       "V3        0\n",
       "V4        0\n",
       "V5        0\n",
       "V6        0\n",
       "V7        0\n",
       "V8        0\n",
       "V9        0\n",
       "V10       0\n",
       "V11       0\n",
       "V12       0\n",
       "V13       0\n",
       "V14       0\n",
       "V15       0\n",
       "V16       0\n",
       "V17       0\n",
       "V18       0\n",
       "V19       0\n",
       "V20       0\n",
       "V21       0\n",
       "V22       0\n",
       "V23       0\n",
       "V24       0\n",
       "V25       0\n",
       "V26       0\n",
       "V27       0\n",
       "V28       0\n",
       "V29       0\n",
       "V30       0\n",
       "V31       0\n",
       "V32       0\n",
       "V33       0\n",
       "V34       0\n",
       "V35       0\n",
       "V36       0\n",
       "V37       1\n",
       "target    1\n",
       "dtype: int64"
      ]
     },
     "execution_count": 4,
     "metadata": {},
     "output_type": "execute_result"
    }
   ],
   "source": [
    "# data.info()\n",
    "\n",
    "data.isnull().sum()"
   ]
  },
  {
   "cell_type": "markdown",
   "id": "4e4def4e",
   "metadata": {},
   "source": [
    "### 填充空值\n"
   ]
  },
  {
   "cell_type": "code",
   "execution_count": 5,
   "id": "40d0fae9",
   "metadata": {},
   "outputs": [
    {
     "data": {
      "text/html": [
       "<div>\n",
       "<style scoped>\n",
       "    .dataframe tbody tr th:only-of-type {\n",
       "        vertical-align: middle;\n",
       "    }\n",
       "\n",
       "    .dataframe tbody tr th {\n",
       "        vertical-align: top;\n",
       "    }\n",
       "\n",
       "    .dataframe thead th {\n",
       "        text-align: right;\n",
       "    }\n",
       "</style>\n",
       "<table border=\"1\" class=\"dataframe\">\n",
       "  <thead>\n",
       "    <tr style=\"text-align: right;\">\n",
       "      <th></th>\n",
       "      <th>V0</th>\n",
       "      <th>V1</th>\n",
       "      <th>V2</th>\n",
       "      <th>V3</th>\n",
       "      <th>V4</th>\n",
       "      <th>V5</th>\n",
       "      <th>V6</th>\n",
       "      <th>V7</th>\n",
       "      <th>V8</th>\n",
       "      <th>V9</th>\n",
       "      <th>...</th>\n",
       "      <th>V29</th>\n",
       "      <th>V30</th>\n",
       "      <th>V31</th>\n",
       "      <th>V32</th>\n",
       "      <th>V33</th>\n",
       "      <th>V34</th>\n",
       "      <th>V35</th>\n",
       "      <th>V36</th>\n",
       "      <th>V37</th>\n",
       "      <th>target</th>\n",
       "    </tr>\n",
       "  </thead>\n",
       "  <tbody>\n",
       "    <tr>\n",
       "      <th>0</th>\n",
       "      <td>0.016</td>\n",
       "      <td>-0.143</td>\n",
       "      <td>0.452</td>\n",
       "      <td>-0.901</td>\n",
       "      <td>-1.812</td>\n",
       "      <td>-2.360</td>\n",
       "      <td>-0.436</td>\n",
       "      <td>-2.114</td>\n",
       "      <td>-0.940</td>\n",
       "      <td>-0.307</td>\n",
       "      <td>...</td>\n",
       "      <td>-0.615</td>\n",
       "      <td>0.327</td>\n",
       "      <td>-4.627</td>\n",
       "      <td>-4.789</td>\n",
       "      <td>-5.101</td>\n",
       "      <td>-2.608</td>\n",
       "      <td>-3.508</td>\n",
       "      <td>0.175</td>\n",
       "      <td>-0.129</td>\n",
       "      <td>NaN</td>\n",
       "    </tr>\n",
       "    <tr>\n",
       "      <th>1</th>\n",
       "      <td>1000.968</td>\n",
       "      <td>0.437</td>\n",
       "      <td>0.066</td>\n",
       "      <td>0.566</td>\n",
       "      <td>0.194</td>\n",
       "      <td>-0.893</td>\n",
       "      <td>-1.566</td>\n",
       "      <td>-2.360</td>\n",
       "      <td>0.332</td>\n",
       "      <td>-2.114</td>\n",
       "      <td>...</td>\n",
       "      <td>-0.128</td>\n",
       "      <td>0.124</td>\n",
       "      <td>0.032</td>\n",
       "      <td>0.600</td>\n",
       "      <td>-0.843</td>\n",
       "      <td>0.160</td>\n",
       "      <td>0.364</td>\n",
       "      <td>-0.335</td>\n",
       "      <td>-0.730</td>\n",
       "      <td>0.676</td>\n",
       "    </tr>\n",
       "    <tr>\n",
       "      <th>2</th>\n",
       "      <td>1.013</td>\n",
       "      <td>0.568</td>\n",
       "      <td>0.235</td>\n",
       "      <td>0.370</td>\n",
       "      <td>0.112</td>\n",
       "      <td>-0.797</td>\n",
       "      <td>-1.367</td>\n",
       "      <td>-2.360</td>\n",
       "      <td>0.396</td>\n",
       "      <td>-2.114</td>\n",
       "      <td>...</td>\n",
       "      <td>-0.009</td>\n",
       "      <td>0.361</td>\n",
       "      <td>0.277</td>\n",
       "      <td>-0.116</td>\n",
       "      <td>-0.843</td>\n",
       "      <td>0.160</td>\n",
       "      <td>0.364</td>\n",
       "      <td>0.765</td>\n",
       "      <td>-0.589</td>\n",
       "      <td>0.633</td>\n",
       "    </tr>\n",
       "    <tr>\n",
       "      <th>3</th>\n",
       "      <td>0.733</td>\n",
       "      <td>0.368</td>\n",
       "      <td>0.283</td>\n",
       "      <td>0.165</td>\n",
       "      <td>0.599</td>\n",
       "      <td>-0.679</td>\n",
       "      <td>-1.200</td>\n",
       "      <td>-2.086</td>\n",
       "      <td>0.403</td>\n",
       "      <td>-2.114</td>\n",
       "      <td>...</td>\n",
       "      <td>0.015</td>\n",
       "      <td>0.417</td>\n",
       "      <td>0.279</td>\n",
       "      <td>0.603</td>\n",
       "      <td>-0.843</td>\n",
       "      <td>-0.065</td>\n",
       "      <td>0.364</td>\n",
       "      <td>0.333</td>\n",
       "      <td>-0.112</td>\n",
       "      <td>0.206</td>\n",
       "    </tr>\n",
       "    <tr>\n",
       "      <th>4</th>\n",
       "      <td>0.684</td>\n",
       "      <td>0.638</td>\n",
       "      <td>0.260</td>\n",
       "      <td>0.209</td>\n",
       "      <td>0.337</td>\n",
       "      <td>-0.454</td>\n",
       "      <td>-1.073</td>\n",
       "      <td>-2.086</td>\n",
       "      <td>0.314</td>\n",
       "      <td>-2.114</td>\n",
       "      <td>...</td>\n",
       "      <td>0.183</td>\n",
       "      <td>1.078</td>\n",
       "      <td>0.328</td>\n",
       "      <td>0.418</td>\n",
       "      <td>-0.843</td>\n",
       "      <td>-0.215</td>\n",
       "      <td>0.364</td>\n",
       "      <td>-0.280</td>\n",
       "      <td>-0.028</td>\n",
       "      <td>0.384</td>\n",
       "    </tr>\n",
       "  </tbody>\n",
       "</table>\n",
       "<p>5 rows × 39 columns</p>\n",
       "</div>"
      ],
      "text/plain": [
       "         V0     V1     V2     V3     V4     V5     V6     V7     V8     V9  \\\n",
       "0     0.016 -0.143  0.452 -0.901 -1.812 -2.360 -0.436 -2.114 -0.940 -0.307   \n",
       "1  1000.968  0.437  0.066  0.566  0.194 -0.893 -1.566 -2.360  0.332 -2.114   \n",
       "2     1.013  0.568  0.235  0.370  0.112 -0.797 -1.367 -2.360  0.396 -2.114   \n",
       "3     0.733  0.368  0.283  0.165  0.599 -0.679 -1.200 -2.086  0.403 -2.114   \n",
       "4     0.684  0.638  0.260  0.209  0.337 -0.454 -1.073 -2.086  0.314 -2.114   \n",
       "\n",
       "   ...    V29    V30    V31    V32    V33    V34    V35    V36    V37  target  \n",
       "0  ... -0.615  0.327 -4.627 -4.789 -5.101 -2.608 -3.508  0.175 -0.129     NaN  \n",
       "1  ... -0.128  0.124  0.032  0.600 -0.843  0.160  0.364 -0.335 -0.730   0.676  \n",
       "2  ... -0.009  0.361  0.277 -0.116 -0.843  0.160  0.364  0.765 -0.589   0.633  \n",
       "3  ...  0.015  0.417  0.279  0.603 -0.843 -0.065  0.364  0.333 -0.112   0.206  \n",
       "4  ...  0.183  1.078  0.328  0.418 -0.843 -0.215  0.364 -0.280 -0.028   0.384  \n",
       "\n",
       "[5 rows x 39 columns]"
      ]
     },
     "execution_count": 5,
     "metadata": {},
     "output_type": "execute_result"
    }
   ],
   "source": [
    "# data['V37'].fillna(method='bfill')\n",
    "# data['V37'].fillna(method='ffill')\n",
    "# data['V37'].fillna(data['V37'].median())\n",
    "data['V37'].fillna(data['V37'].mean().round(3),inplace=True) # 保留三位小数,inplace 表示修改原数据\n",
    "data.head()"
   ]
  },
  {
   "cell_type": "markdown",
   "id": "ea028403",
   "metadata": {},
   "source": [
    "### 删除空值"
   ]
  },
  {
   "cell_type": "code",
   "execution_count": 6,
   "id": "be8f5c9e",
   "metadata": {},
   "outputs": [],
   "source": [
    "# data.dropna()\n",
    "\n",
    "data.dropna(subset=['V0','target'],inplace=True)"
   ]
  },
  {
   "cell_type": "markdown",
   "id": "dc25c5e3",
   "metadata": {},
   "source": [
    "### 异常值"
   ]
  },
  {
   "cell_type": "code",
   "execution_count": 7,
   "id": "62e8e825",
   "metadata": {},
   "outputs": [
    {
     "data": {
      "text/html": [
       "<div>\n",
       "<style scoped>\n",
       "    .dataframe tbody tr th:only-of-type {\n",
       "        vertical-align: middle;\n",
       "    }\n",
       "\n",
       "    .dataframe tbody tr th {\n",
       "        vertical-align: top;\n",
       "    }\n",
       "\n",
       "    .dataframe thead th {\n",
       "        text-align: right;\n",
       "    }\n",
       "</style>\n",
       "<table border=\"1\" class=\"dataframe\">\n",
       "  <thead>\n",
       "    <tr style=\"text-align: right;\">\n",
       "      <th></th>\n",
       "      <th>V0</th>\n",
       "      <th>V1</th>\n",
       "      <th>V2</th>\n",
       "      <th>V3</th>\n",
       "      <th>V4</th>\n",
       "      <th>V5</th>\n",
       "      <th>V6</th>\n",
       "      <th>V7</th>\n",
       "      <th>V8</th>\n",
       "      <th>V9</th>\n",
       "      <th>...</th>\n",
       "      <th>V29</th>\n",
       "      <th>V30</th>\n",
       "      <th>V31</th>\n",
       "      <th>V32</th>\n",
       "      <th>V33</th>\n",
       "      <th>V34</th>\n",
       "      <th>V35</th>\n",
       "      <th>V36</th>\n",
       "      <th>V37</th>\n",
       "      <th>target</th>\n",
       "    </tr>\n",
       "  </thead>\n",
       "  <tbody>\n",
       "    <tr>\n",
       "      <th>count</th>\n",
       "      <td>2887.000000</td>\n",
       "      <td>2887.000000</td>\n",
       "      <td>2887.000000</td>\n",
       "      <td>2887.000000</td>\n",
       "      <td>2887.000000</td>\n",
       "      <td>2887.000000</td>\n",
       "      <td>2887.000000</td>\n",
       "      <td>2887.000000</td>\n",
       "      <td>2887.000000</td>\n",
       "      <td>2887.000000</td>\n",
       "      <td>...</td>\n",
       "      <td>2887.000000</td>\n",
       "      <td>2887.000000</td>\n",
       "      <td>2887.000000</td>\n",
       "      <td>2887.000000</td>\n",
       "      <td>2887.000000</td>\n",
       "      <td>2887.000000</td>\n",
       "      <td>2887.000000</td>\n",
       "      <td>2887.000000</td>\n",
       "      <td>2887.000000</td>\n",
       "      <td>2887.000000</td>\n",
       "    </tr>\n",
       "    <tr>\n",
       "      <th>mean</th>\n",
       "      <td>0.469275</td>\n",
       "      <td>0.056082</td>\n",
       "      <td>0.289870</td>\n",
       "      <td>-0.067954</td>\n",
       "      <td>0.012769</td>\n",
       "      <td>-0.558446</td>\n",
       "      <td>0.183583</td>\n",
       "      <td>0.117012</td>\n",
       "      <td>0.178069</td>\n",
       "      <td>-0.168779</td>\n",
       "      <td>...</td>\n",
       "      <td>0.097635</td>\n",
       "      <td>0.055458</td>\n",
       "      <td>0.128048</td>\n",
       "      <td>0.020700</td>\n",
       "      <td>0.009406</td>\n",
       "      <td>0.008376</td>\n",
       "      <td>0.199599</td>\n",
       "      <td>0.031572</td>\n",
       "      <td>-0.129160</td>\n",
       "      <td>0.126336</td>\n",
       "    </tr>\n",
       "    <tr>\n",
       "      <th>std</th>\n",
       "      <td>18.650133</td>\n",
       "      <td>0.941677</td>\n",
       "      <td>0.911358</td>\n",
       "      <td>0.970426</td>\n",
       "      <td>0.888493</td>\n",
       "      <td>0.518008</td>\n",
       "      <td>0.917461</td>\n",
       "      <td>0.954168</td>\n",
       "      <td>0.895526</td>\n",
       "      <td>0.953291</td>\n",
       "      <td>...</td>\n",
       "      <td>1.061384</td>\n",
       "      <td>0.902090</td>\n",
       "      <td>0.873070</td>\n",
       "      <td>0.902722</td>\n",
       "      <td>1.003467</td>\n",
       "      <td>0.999485</td>\n",
       "      <td>0.980897</td>\n",
       "      <td>0.969737</td>\n",
       "      <td>1.015427</td>\n",
       "      <td>0.984136</td>\n",
       "    </tr>\n",
       "    <tr>\n",
       "      <th>min</th>\n",
       "      <td>-4.335000</td>\n",
       "      <td>-5.122000</td>\n",
       "      <td>-3.420000</td>\n",
       "      <td>-3.956000</td>\n",
       "      <td>-4.742000</td>\n",
       "      <td>-2.182000</td>\n",
       "      <td>-4.576000</td>\n",
       "      <td>-5.048000</td>\n",
       "      <td>-4.692000</td>\n",
       "      <td>-12.891000</td>\n",
       "      <td>...</td>\n",
       "      <td>-2.912000</td>\n",
       "      <td>-4.507000</td>\n",
       "      <td>-5.859000</td>\n",
       "      <td>-4.053000</td>\n",
       "      <td>-4.627000</td>\n",
       "      <td>-4.789000</td>\n",
       "      <td>-5.695000</td>\n",
       "      <td>-2.608000</td>\n",
       "      <td>-3.630000</td>\n",
       "      <td>-3.044000</td>\n",
       "    </tr>\n",
       "    <tr>\n",
       "      <th>25%</th>\n",
       "      <td>-0.297000</td>\n",
       "      <td>-0.226500</td>\n",
       "      <td>-0.313000</td>\n",
       "      <td>-0.652500</td>\n",
       "      <td>-0.385000</td>\n",
       "      <td>-0.852500</td>\n",
       "      <td>-0.310000</td>\n",
       "      <td>-0.295000</td>\n",
       "      <td>-0.158500</td>\n",
       "      <td>-0.390000</td>\n",
       "      <td>...</td>\n",
       "      <td>-0.664000</td>\n",
       "      <td>-0.283000</td>\n",
       "      <td>-0.170000</td>\n",
       "      <td>-0.407500</td>\n",
       "      <td>-0.499000</td>\n",
       "      <td>-0.290000</td>\n",
       "      <td>-0.199500</td>\n",
       "      <td>-0.412500</td>\n",
       "      <td>-0.797500</td>\n",
       "      <td>-0.350500</td>\n",
       "    </tr>\n",
       "    <tr>\n",
       "      <th>50%</th>\n",
       "      <td>0.359000</td>\n",
       "      <td>0.273000</td>\n",
       "      <td>0.386000</td>\n",
       "      <td>-0.045000</td>\n",
       "      <td>0.110000</td>\n",
       "      <td>-0.466000</td>\n",
       "      <td>0.388000</td>\n",
       "      <td>0.345000</td>\n",
       "      <td>0.362000</td>\n",
       "      <td>0.042000</td>\n",
       "      <td>...</td>\n",
       "      <td>-0.024000</td>\n",
       "      <td>0.053000</td>\n",
       "      <td>0.300000</td>\n",
       "      <td>0.039000</td>\n",
       "      <td>-0.040000</td>\n",
       "      <td>0.160000</td>\n",
       "      <td>0.364000</td>\n",
       "      <td>0.138000</td>\n",
       "      <td>-0.185000</td>\n",
       "      <td>0.313000</td>\n",
       "    </tr>\n",
       "    <tr>\n",
       "      <th>75%</th>\n",
       "      <td>0.726000</td>\n",
       "      <td>0.599000</td>\n",
       "      <td>0.918500</td>\n",
       "      <td>0.624000</td>\n",
       "      <td>0.550500</td>\n",
       "      <td>-0.154000</td>\n",
       "      <td>0.831500</td>\n",
       "      <td>0.782500</td>\n",
       "      <td>0.726000</td>\n",
       "      <td>0.042000</td>\n",
       "      <td>...</td>\n",
       "      <td>0.745500</td>\n",
       "      <td>0.488000</td>\n",
       "      <td>0.635000</td>\n",
       "      <td>0.557000</td>\n",
       "      <td>0.462000</td>\n",
       "      <td>0.273000</td>\n",
       "      <td>0.602000</td>\n",
       "      <td>0.644500</td>\n",
       "      <td>0.495500</td>\n",
       "      <td>0.793500</td>\n",
       "    </tr>\n",
       "    <tr>\n",
       "      <th>max</th>\n",
       "      <td>1000.968000</td>\n",
       "      <td>1.918000</td>\n",
       "      <td>2.828000</td>\n",
       "      <td>2.457000</td>\n",
       "      <td>2.689000</td>\n",
       "      <td>0.489000</td>\n",
       "      <td>1.895000</td>\n",
       "      <td>1.918000</td>\n",
       "      <td>2.245000</td>\n",
       "      <td>1.335000</td>\n",
       "      <td>...</td>\n",
       "      <td>4.580000</td>\n",
       "      <td>2.689000</td>\n",
       "      <td>2.013000</td>\n",
       "      <td>2.395000</td>\n",
       "      <td>5.465000</td>\n",
       "      <td>5.110000</td>\n",
       "      <td>2.324000</td>\n",
       "      <td>5.238000</td>\n",
       "      <td>3.000000</td>\n",
       "      <td>2.538000</td>\n",
       "    </tr>\n",
       "  </tbody>\n",
       "</table>\n",
       "<p>8 rows × 39 columns</p>\n",
       "</div>"
      ],
      "text/plain": [
       "                V0           V1           V2           V3           V4  \\\n",
       "count  2887.000000  2887.000000  2887.000000  2887.000000  2887.000000   \n",
       "mean      0.469275     0.056082     0.289870    -0.067954     0.012769   \n",
       "std      18.650133     0.941677     0.911358     0.970426     0.888493   \n",
       "min      -4.335000    -5.122000    -3.420000    -3.956000    -4.742000   \n",
       "25%      -0.297000    -0.226500    -0.313000    -0.652500    -0.385000   \n",
       "50%       0.359000     0.273000     0.386000    -0.045000     0.110000   \n",
       "75%       0.726000     0.599000     0.918500     0.624000     0.550500   \n",
       "max    1000.968000     1.918000     2.828000     2.457000     2.689000   \n",
       "\n",
       "                V5           V6           V7           V8           V9  ...  \\\n",
       "count  2887.000000  2887.000000  2887.000000  2887.000000  2887.000000  ...   \n",
       "mean     -0.558446     0.183583     0.117012     0.178069    -0.168779  ...   \n",
       "std       0.518008     0.917461     0.954168     0.895526     0.953291  ...   \n",
       "min      -2.182000    -4.576000    -5.048000    -4.692000   -12.891000  ...   \n",
       "25%      -0.852500    -0.310000    -0.295000    -0.158500    -0.390000  ...   \n",
       "50%      -0.466000     0.388000     0.345000     0.362000     0.042000  ...   \n",
       "75%      -0.154000     0.831500     0.782500     0.726000     0.042000  ...   \n",
       "max       0.489000     1.895000     1.918000     2.245000     1.335000  ...   \n",
       "\n",
       "               V29          V30          V31          V32          V33  \\\n",
       "count  2887.000000  2887.000000  2887.000000  2887.000000  2887.000000   \n",
       "mean      0.097635     0.055458     0.128048     0.020700     0.009406   \n",
       "std       1.061384     0.902090     0.873070     0.902722     1.003467   \n",
       "min      -2.912000    -4.507000    -5.859000    -4.053000    -4.627000   \n",
       "25%      -0.664000    -0.283000    -0.170000    -0.407500    -0.499000   \n",
       "50%      -0.024000     0.053000     0.300000     0.039000    -0.040000   \n",
       "75%       0.745500     0.488000     0.635000     0.557000     0.462000   \n",
       "max       4.580000     2.689000     2.013000     2.395000     5.465000   \n",
       "\n",
       "               V34          V35          V36          V37       target  \n",
       "count  2887.000000  2887.000000  2887.000000  2887.000000  2887.000000  \n",
       "mean      0.008376     0.199599     0.031572    -0.129160     0.126336  \n",
       "std       0.999485     0.980897     0.969737     1.015427     0.984136  \n",
       "min      -4.789000    -5.695000    -2.608000    -3.630000    -3.044000  \n",
       "25%      -0.290000    -0.199500    -0.412500    -0.797500    -0.350500  \n",
       "50%       0.160000     0.364000     0.138000    -0.185000     0.313000  \n",
       "75%       0.273000     0.602000     0.644500     0.495500     0.793500  \n",
       "max       5.110000     2.324000     5.238000     3.000000     2.538000  \n",
       "\n",
       "[8 rows x 39 columns]"
      ]
     },
     "execution_count": 7,
     "metadata": {},
     "output_type": "execute_result"
    }
   ],
   "source": [
    "data.describe()"
   ]
  },
  {
   "cell_type": "code",
   "execution_count": 26,
   "id": "1b86beed",
   "metadata": {},
   "outputs": [
    {
     "data": {
      "image/png": "[encoded data removed]",
      "text/plain": [
       "<Figure size 432x288 with 1 Axes>"
      ]
     },
     "metadata": {
      "needs_background": "light"
     },
     "output_type": "display_data"
    }
   ],
   "source": [
    "plt.boxplot(data['V0'])\n",
    "plt.show()"
   ]
  },
  {
   "cell_type": "code",
   "execution_count": 9,
   "id": "5b937a3b",
   "metadata": {},
   "outputs": [
    {
     "data": {
      "text/plain": [
       "(2887, 39)"
      ]
     },
     "execution_count": 9,
     "metadata": {},
     "output_type": "execute_result"
    }
   ],
   "source": [
    "data.shape"
   ]
  },
  {
   "cell_type": "markdown",
   "id": "ed8bdb2a",
   "metadata": {},
   "source": [
    "####  与 &  或  |   非 ~"
   ]
  },
  {
   "cell_type": "code",
   "execution_count": 10,
   "id": "4fc3201b",
   "metadata": {},
   "outputs": [],
   "source": [
    "data_normal=data[(data['V0']<10) & (data['V0']>-2)]"
   ]
  },
  {
   "cell_type": "code",
   "execution_count": 11,
   "id": "8fdaa017",
   "metadata": {},
   "outputs": [
    {
     "data": {
      "text/plain": [
       "(2775, 39)"
      ]
     },
     "execution_count": 11,
     "metadata": {},
     "output_type": "execute_result"
    }
   ],
   "source": [
    "data_normal.shape"
   ]
  },
  {
   "cell_type": "code",
   "execution_count": 12,
   "id": "7d9d9f72",
   "metadata": {},
   "outputs": [
    {
     "data": {
      "text/plain": [
       "{'whiskers': [<matplotlib.lines.Line2D at 0x2888d1ae640>,\n",
       "  <matplotlib.lines.Line2D at 0x2888d1ae8b0>],\n",
       " 'caps': [<matplotlib.lines.Line2D at 0x2888d1aec40>,\n",
       "  <matplotlib.lines.Line2D at 0x2888d1aefd0>],\n",
       " 'boxes': [<matplotlib.lines.Line2D at 0x2888d1ae2b0>],\n",
       " 'medians': [<matplotlib.lines.Line2D at 0x2888d1bd3d0>],\n",
       " 'fliers': [<matplotlib.lines.Line2D at 0x2888d1bd760>],\n",
       " 'means': []}"
      ]
     },
     "execution_count": 12,
     "metadata": {},
     "output_type": "execute_result"
    },
    {
     "data": {
      "image/png": "[encoded data removed]",
      "text/plain": [
       "<Figure size 432x288 with 1 Axes>"
      ]
     },
     "metadata": {
      "needs_background": "light"
     },
     "output_type": "display_data"
    }
   ],
   "source": [
    "plt.boxplot(data_normal['V0'])\n",
    "plt.show()"
   ]
  },
  {
   "cell_type": "markdown",
   "id": "4821c054",
   "metadata": {},
   "source": [
    "### pd.get_dummies(data,columns=['列名'])  用于不定序数据转化\n",
    "\n",
    "### data[’列名‘].map({\"优\":0,\"良\":1....})\n",
    "### data[’列名‘]=data[’列名‘].astype(np.float64)"
   ]
  },
  {
   "cell_type": "code",
   "execution_count": 13,
   "id": "839c8d13",
   "metadata": {},
   "outputs": [
    {
     "name": "stdout",
     "output_type": "stream",
     "text": [
      "(4, 3)\n"
     ]
    }
   ],
   "source": [
    "x_test=np.array([['男','北京','已婚'],['女','北京','已婚'],['男','苏州','未婚'],['男','南京','未婚']])\n",
    "\n",
    "print(x_test.shape)\n",
    "\n",
    "def auto_order(X):\n",
    "    for i in range(X.shape[1]):\n",
    "        X[:,i]=LabelEncoder().fit_transform(X[:,i])\n",
    "        \n",
    "        print(X[:,i])\n",
    "    return X"
   ]
  },
  {
   "cell_type": "code",
   "execution_count": 14,
   "id": "be70e82d",
   "metadata": {},
   "outputs": [
    {
     "name": "stdout",
     "output_type": "stream",
     "text": [
      "['1' '0' '1' '1']\n",
      "['0' '0' '2' '1']\n",
      "['0' '0' '1' '1']\n"
     ]
    },
    {
     "data": {
      "text/plain": [
       "array([['1', '0', '0'],\n",
       "       ['0', '0', '0'],\n",
       "       ['1', '2', '1'],\n",
       "       ['1', '1', '1']], dtype='<U2')"
      ]
     },
     "execution_count": 14,
     "metadata": {},
     "output_type": "execute_result"
    }
   ],
   "source": [
    "r1=auto_order(x_test)\n",
    "r1"
   ]
  },
  {
   "cell_type": "code",
   "execution_count": 15,
   "id": "77e65f69",
   "metadata": {},
   "outputs": [
    {
     "name": "stdout",
     "output_type": "stream",
     "text": [
      "[[0. 1. 1. 0. 0. 1. 0.]\n",
      " [1. 0. 1. 0. 0. 1. 0.]\n",
      " [0. 1. 0. 0. 1. 0. 1.]\n",
      " [0. 1. 0. 1. 0. 0. 1.]]\n"
     ]
    }
   ],
   "source": [
    "r=OneHotEncoder().fit_transform(r1).toarray()\n",
    "\n",
    "print(r)"
   ]
  },
  {
   "cell_type": "markdown",
   "id": "886519c9",
   "metadata": {},
   "source": [
    "### 相关性分析 删除相关性比较低的列\n",
    "\n"
   ]
  },
  {
   "cell_type": "code",
   "execution_count": 16,
   "id": "693b05b1",
   "metadata": {},
   "outputs": [
    {
     "data": {
      "text/plain": [
       "V34       0.006042\n",
       "V21       0.013278\n",
       "V26       0.017522\n",
       "V25       0.018232\n",
       "V14       0.022027\n",
       "V32       0.030421\n",
       "V33       0.077241\n",
       "V22       0.079099\n",
       "V29       0.087866\n",
       "V9        0.089715\n",
       "V15       0.110810\n",
       "V35       0.117448\n",
       "V17       0.125077\n",
       "V28       0.125239\n",
       "V19       0.127023\n",
       "V30       0.158923\n",
       "V18       0.160681\n",
       "V13       0.184265\n",
       "V23       0.189190\n",
       "V11       0.233735\n",
       "V24       0.236017\n",
       "V5        0.288379\n",
       "V7        0.310271\n",
       "V36       0.328915\n",
       "V20       0.374488\n",
       "V6        0.387608\n",
       "V10       0.398353\n",
       "V12       0.487755\n",
       "V3        0.489373\n",
       "V4        0.509948\n",
       "V37       0.529786\n",
       "V16       0.595271\n",
       "V2        0.678213\n",
       "V31       0.754041\n",
       "V27       0.815469\n",
       "V8        0.820991\n",
       "V1        0.847180\n",
       "V0        0.853419\n",
       "target    1.000000\n",
       "Name: target, dtype: float64"
      ]
     },
     "execution_count": 16,
     "metadata": {},
     "output_type": "execute_result"
    }
   ],
   "source": [
    "data_normal.corr()['target'].abs().sort_values()"
   ]
  },
  {
   "cell_type": "code",
   "execution_count": 17,
   "id": "25bccd8b",
   "metadata": {},
   "outputs": [],
   "source": [
    "r3=data_normal.corr()['target'].abs().sort_values()\n",
    "del_index=r3[r3<0.1].index"
   ]
  },
  {
   "cell_type": "code",
   "execution_count": 18,
   "id": "232d6c12",
   "metadata": {},
   "outputs": [
    {
     "data": {
      "text/plain": [
       "(2775, 29)"
      ]
     },
     "execution_count": 18,
     "metadata": {},
     "output_type": "execute_result"
    }
   ],
   "source": [
    "data_del=data_normal.drop(del_index,axis=1)\n",
    "\n",
    "data_del.shape"
   ]
  },
  {
   "cell_type": "markdown",
   "id": "b3a58511",
   "metadata": {},
   "source": [
    "### 3 KNN"
   ]
  },
  {
   "cell_type": "code",
   "execution_count": 19,
   "id": "5653e1db",
   "metadata": {},
   "outputs": [
    {
     "data": {
      "text/plain": [
       "(2775,)"
      ]
     },
     "execution_count": 19,
     "metadata": {},
     "output_type": "execute_result"
    }
   ],
   "source": [
    "y=data_del['target']\n",
    "x=data_del.drop('target',axis=1)\n",
    "x.shape\n",
    "y.shape"
   ]
  },
  {
   "cell_type": "code",
   "execution_count": 20,
   "id": "191f1b46",
   "metadata": {},
   "outputs": [],
   "source": [
    "X_train, X_test, y_train, y_test = train_test_split(x, y, test_size=0.2)\n",
    "X_train.shape\n",
    "std=StandardScaler()\n",
    "std_tf=std.fit(X_train)\n",
    "X_train_std=std_tf.transform(X_train)\n",
    "X_test_std=std_tf.transform(X_test)"
   ]
  },
  {
   "cell_type": "code",
   "execution_count": 21,
   "id": "81c5c863",
   "metadata": {},
   "outputs": [
    {
     "name": "stdout",
     "output_type": "stream",
     "text": [
      "0.7164440931842948 2\n",
      "0.754948548893688 3\n",
      "0.7703394104376383 4\n",
      "0.7780781016067279 5\n",
      "0.7786237199148739 6\n",
      "0.786946348797508 7\n",
      "0.7893810162917627 8\n",
      "0.7905606571413422 9\n",
      "0.7932922771752342 10\n",
      "0.7945947448662327 11\n",
      "0.7988962263251635 12\n",
      "0.797448613669741 13\n",
      "0.7953052314229547 14\n",
      "0.7925146807496901 15\n",
      "0.7932088016561626 16\n",
      "0.7924215130245088 17\n",
      "0.7923326854102937 18\n",
      "0.7937021462251993 19\n"
     ]
    }
   ],
   "source": [
    "for i in range(2,20):\n",
    "    knn_model=KNeighborsRegressor(n_neighbors=i)\n",
    "    knn_model.fit(X_train_std,y_train)\n",
    "    score=knn_model.score(X_test_std,y_test)\n",
    "    print(score,i)"
   ]
  },
  {
   "cell_type": "markdown",
   "id": "45e4097e",
   "metadata": {},
   "source": [
    "### 随机深林"
   ]
  },
  {
   "cell_type": "code",
   "execution_count": 22,
   "id": "1ef26d3b",
   "metadata": {},
   "outputs": [
    {
     "name": "stdout",
     "output_type": "stream",
     "text": [
      "0.6585440130537514 1\n",
      "0.8283651975125158 10\n",
      "0.8450271865600331 100\n"
     ]
    }
   ],
   "source": [
    "X_train, X_test, y_train, y_test = train_test_split(x, y, test_size=0.2)\n",
    "X_train.shape\n",
    "std=StandardScaler()\n",
    "std_tf=std.fit(X_train)\n",
    "X_train_std=std_tf.transform(X_train)\n",
    "X_test_std=std_tf.transform(X_test)\n",
    "for i in [1,10,100]:\n",
    "    rgs_model = RandomForestRegressor(n_estimators=i)  ##随机森林模型\n",
    "    rgs_model = rgs_model.fit(X_train, y_train)\n",
    "    score=rgs_model.score(X_test,y_test)\n",
    "    print(score,i)"
   ]
  },
  {
   "cell_type": "markdown",
   "id": "2e6a86b6",
   "metadata": {},
   "source": [
    "### PCA"
   ]
  },
  {
   "cell_type": "code",
   "execution_count": 23,
   "id": "41ff6e6a",
   "metadata": {},
   "outputs": [
    {
     "data": {
      "text/plain": [
       "(2775, 39)"
      ]
     },
     "execution_count": 23,
     "metadata": {},
     "output_type": "execute_result"
    }
   ],
   "source": [
    "data_normal.shape"
   ]
  },
  {
   "cell_type": "code",
   "execution_count": 24,
   "id": "6ce2e3f4",
   "metadata": {},
   "outputs": [
    {
     "name": "stdout",
     "output_type": "stream",
     "text": [
      "0.5247514233821688 1\n",
      "0.7362942487524324 10\n",
      "0.760597806632891 100\n"
     ]
    }
   ],
   "source": [
    "y=data_normal['target']\n",
    "x=data_normal.drop('target',axis=1)\n",
    "\n",
    "# pca 为了减少训练的时间，但是准确率可能会有降低\n",
    "# 如果时间充足，就不需要用PCA 直接用原数据去训练，删除下面的三行\n",
    "pca = PCA(n_components=28)\n",
    "pca.fit(x)\n",
    "x=pca.transform(x)\n",
    "\n",
    "X_train, X_test, y_train, y_test = train_test_split(x, y, test_size=0.2)\n",
    "X_train.shape\n",
    "std=StandardScaler()\n",
    "std_tf=std.fit(X_train)\n",
    "X_train_std=std_tf.transform(X_train)\n",
    "X_test_std=std_tf.transform(X_test)\n",
    "for i in [1,10,100]:\n",
    "    rgs_model = RandomForestRegressor(n_estimators=i)  ##随机森林模型\n",
    "    rgs_model = rgs_model.fit(X_train, y_train)\n",
    "    score=rgs_model.score(X_test,y_test)\n",
    "    print(score,i)"
   ]
  },
  {
   "cell_type": "code",
   "execution_count": 25,
   "id": "2fe362bb",
   "metadata": {},
   "outputs": [
    {
     "name": "stdout",
     "output_type": "stream",
     "text": [
      "0.8006701156720113 100\n"
     ]
    }
   ],
   "source": [
    "y=data_normal['target']\n",
    "x=data_normal.drop('target',axis=1)\n",
    "\n",
    "# pca 为了减少训练的时间，但是准确率可能会有降低\n",
    "# 如果时间充足，就不需要用PCA 直接用原数据去训练，删除下面的三行\n",
    "pca = PCA(n_components=28)\n",
    "pca.fit(x)\n",
    "x=pca.transform(x)\n",
    "\n",
    "X_train, X_test, y_train, y_test = train_test_split(x, y, test_size=0.2)\n",
    "X_train.shape\n",
    "std=StandardScaler()\n",
    "std_tf=std.fit(X_train)\n",
    "X_train_std=std_tf.transform(X_train)\n",
    "X_test_std=std_tf.transform(X_test)\n",
    "\n",
    "rgs_model = RandomForestRegressor(n_estimators=100)  ##随机森林模型\n",
    "rgs_model = rgs_model.fit(X_train, y_train)\n",
    "score=rgs_model.score(X_test,y_test)\n",
    "print(score,i)"
   ]
  },
  {
   "cell_type": "code",
   "execution_count": null,
   "id": "c6c55372",
   "metadata": {},
   "outputs": [],
   "source": []
  }
 ],
 "metadata": {
  "interpreter": {
   "hash": "95ab7303ed2746327945aa376054eddca8c4eca362915ff95db932dbe7e7ee41"
  },
  "kernelspec": {
   "display_name": "Python 3.8.8 64-bit",
   "name": "python3"
  },
  "language_info": {
   "codemirror_mode": {
    "name": "ipython",
    "version": 3
   },
   "file_extension": ".py",
   "mimetype": "text/x-python",
   "name": "python",
   "nbconvert_exporter": "python",
   "pygments_lexer": "ipython3",
   "version": "3.8.8"
  }
 },
 "nbformat": 4,
 "nbformat_minor": 5
}
