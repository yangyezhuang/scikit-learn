{
 "cells": [
  {
   "cell_type": "code",
   "execution_count": 1,
   "id": "9e48a4ed",
   "metadata": {},
   "outputs": [],
   "source": [
    "import numpy as np"
   ]
  },
  {
   "cell_type": "markdown",
   "id": "f1c01c90",
   "metadata": {},
   "source": [
    "1. 类型转换\n"
   ]
  },
  {
   "cell_type": "code",
   "execution_count": 4,
   "id": "8963c8f7",
   "metadata": {},
   "outputs": [
    {
     "data": {
      "text/plain": [
       "array([ 1.        ,  3.11111111,  5.22222222,  7.33333333,  9.44444444,\n",
       "       11.55555556, 13.66666667, 15.77777778, 17.88888889, 20.        ])"
      ]
     },
     "execution_count": 4,
     "metadata": {},
     "output_type": "execute_result"
    }
   ],
   "source": [
    "array01=np.linspace(1,20,10)\n",
    "array01\n"
   ]
  },
  {
   "cell_type": "code",
   "execution_count": 8,
   "id": "adf15f44",
   "metadata": {},
   "outputs": [
    {
     "data": {
      "text/plain": [
       "array([b'1.0', b'3.0', b'5.0', b'7.0', b'9.0', b'11.0', b'13.0', b'15.0',\n",
       "       b'17.0', b'20.0'], dtype='|S32')"
      ]
     },
     "execution_count": 8,
     "metadata": {},
     "output_type": "execute_result"
    }
   ],
   "source": [
    "array01_int=array01.astype(np.int64)\n",
    "array01_float=array01_int.astype(np.float64)\n",
    "array01_str=array01_float.astype(np.string_)\n",
    "array01_str"
   ]
  },
  {
   "cell_type": "markdown",
   "id": "3368f2d9",
   "metadata": {},
   "source": [
    "2. 运算\n",
    "\n",
    "narray 运算为广播运算,**numpy中自带循环**"
   ]
  },
  {
   "cell_type": "code",
   "execution_count": 9,
   "id": "ef241207",
   "metadata": {},
   "outputs": [],
   "source": [
    "array02=np.arange(12).reshape(3,-1)"
   ]
  },
  {
   "cell_type": "code",
   "execution_count": 18,
   "id": "ea1f5aaf",
   "metadata": {},
   "outputs": [
    {
     "name": "stderr",
     "output_type": "stream",
     "text": [
      "<ipython-input-18-d0db18bf8df4>:3: RuntimeWarning: divide by zero encountered in true_divide\n",
      "  1/array02\n"
     ]
    },
    {
     "data": {
      "text/plain": [
       "array([[  0,   1,   4,   9],\n",
       "       [ 16,  25,  36,  49],\n",
       "       [ 64,  81, 100, 121]])"
      ]
     },
     "execution_count": 18,
     "metadata": {},
     "output_type": "execute_result"
    }
   ],
   "source": [
    "array02+1\n",
    "array02*3\n",
    "1/array02\n",
    "array02**2\n"
   ]
  },
  {
   "cell_type": "code",
   "execution_count": 15,
   "id": "88cb23dd",
   "metadata": {},
   "outputs": [
    {
     "data": {
      "text/plain": [
       "array([[10, 10, 10, 10],\n",
       "       [10, 10, 10, 10],\n",
       "       [10, 10, 10, 10]])"
      ]
     },
     "execution_count": 15,
     "metadata": {},
     "output_type": "execute_result"
    }
   ],
   "source": [
    "# 两个数组运算要ndim 相同，对应位置相加\n",
    "\n",
    "array03=np.full((3,4),10)\n",
    "array03"
   ]
  },
  {
   "cell_type": "code",
   "execution_count": 19,
   "id": "f5012aeb",
   "metadata": {},
   "outputs": [
    {
     "data": {
      "text/plain": [
       "array([[False, False, False, False],\n",
       "       [False, False, False, False],\n",
       "       [False, False, False,  True]])"
      ]
     },
     "execution_count": 19,
     "metadata": {},
     "output_type": "execute_result"
    }
   ],
   "source": [
    "array02+array03\n",
    "array02/array03\n",
    "array02>array03"
   ]
  },
  {
   "cell_type": "markdown",
   "id": "90919ae0",
   "metadata": {},
   "source": [
    "3. 数组合并与拆分"
   ]
  },
  {
   "cell_type": "code",
   "execution_count": 31,
   "id": "d96e753d",
   "metadata": {},
   "outputs": [],
   "source": [
    "array04=np.arange(9).reshape(3,-1)\n",
    "array05=np.arange(10,19).reshape(3,-1)"
   ]
  },
  {
   "cell_type": "code",
   "execution_count": 33,
   "id": "a76b9a1b",
   "metadata": {},
   "outputs": [
    {
     "data": {
      "text/plain": [
       "array([[ 0,  1,  2, 10, 11, 12],\n",
       "       [ 3,  4,  5, 13, 14, 15],\n",
       "       [ 6,  7,  8, 16, 17, 18]])"
      ]
     },
     "execution_count": 33,
     "metadata": {},
     "output_type": "execute_result"
    }
   ],
   "source": [
    "np.vstack((array04,array05))  #vertical\n",
    "np.hstack((array04,array05))  #horizontal"
   ]
  },
  {
   "cell_type": "code",
   "execution_count": 34,
   "id": "540ccedf",
   "metadata": {},
   "outputs": [
    {
     "data": {
      "text/plain": [
       "array([[ 0,  1,  2,  3],\n",
       "       [ 4,  5,  6,  7],\n",
       "       [ 8,  9, 10, 11],\n",
       "       [12, 13, 14, 15],\n",
       "       [16, 17, 18, 19],\n",
       "       [20, 21, 22, 23],\n",
       "       [24, 25, 26, 27],\n",
       "       [28, 29, 30, 31]])"
      ]
     },
     "execution_count": 34,
     "metadata": {},
     "output_type": "execute_result"
    }
   ],
   "source": [
    "array06= np.arange(32).reshape(8,-1)\n",
    "array06"
   ]
  },
  {
   "cell_type": "markdown",
   "id": "08dfe8b7",
   "metadata": {},
   "source": [
    "拆分数组"
   ]
  },
  {
   "cell_type": "code",
   "execution_count": 35,
   "id": "73281228",
   "metadata": {},
   "outputs": [
    {
     "data": {
      "text/plain": [
       "array([[0, 1, 2, 3],\n",
       "       [4, 5, 6, 7]])"
      ]
     },
     "execution_count": 35,
     "metadata": {},
     "output_type": "execute_result"
    }
   ],
   "source": [
    "fir,sec,thd=np.split(array06,[2,4])\n",
    "fir"
   ]
  },
  {
   "cell_type": "code",
   "execution_count": 36,
   "id": "6fff65df",
   "metadata": {},
   "outputs": [
    {
     "data": {
      "text/plain": [
       "array([[ 8,  9, 10, 11],\n",
       "       [12, 13, 14, 15]])"
      ]
     },
     "execution_count": 36,
     "metadata": {},
     "output_type": "execute_result"
    }
   ],
   "source": [
    "sec"
   ]
  },
  {
   "cell_type": "markdown",
   "id": "b1253cdc",
   "metadata": {},
   "source": [
    "#### 4. 数组切片"
   ]
  },
  {
   "cell_type": "code",
   "execution_count": 51,
   "id": "a2d3da0e",
   "metadata": {},
   "outputs": [
    {
     "data": {
      "text/plain": [
       "array([11, 14, 10])"
      ]
     },
     "execution_count": 51,
     "metadata": {},
     "output_type": "execute_result"
    }
   ],
   "source": [
    "array07=np.arange(10,20)\n",
    "array07[:2]\n",
    "array07[2:]\n",
    "array07[1:4]\n",
    "array07[:]\n",
    "array07[1:7:2]\n",
    "array07[-1:2:-1]\n",
    "array07[::-1]\n",
    "array07[[1,4,0]]"
   ]
  },
  {
   "cell_type": "markdown",
   "id": "0f163be6",
   "metadata": {},
   "source": [
    "二维数组"
   ]
  },
  {
   "cell_type": "code",
   "execution_count": 46,
   "id": "105016d4",
   "metadata": {},
   "outputs": [],
   "source": [
    "array08=np.arange(12).reshape(3,4)"
   ]
  },
  {
   "cell_type": "code",
   "execution_count": 60,
   "id": "0629a8f3",
   "metadata": {},
   "outputs": [
    {
     "data": {
      "text/plain": [
       "array([[ 0,  2],\n",
       "       [ 8, 10]])"
      ]
     },
     "execution_count": 60,
     "metadata": {},
     "output_type": "execute_result"
    }
   ],
   "source": [
    "array08[2,2]\n",
    "array08[:2]\n",
    "array08[:2,:2]\n",
    "array08[:2,[0,2]]\n",
    "array08[:,[0,2]][[0,2],:]"
   ]
  },
  {
   "cell_type": "markdown",
   "id": "ea162541",
   "metadata": {},
   "source": [
    "\n",
    "       [[ 0,  1,  2,  3,  4],\n",
    "\n",
    "       [ 5,  6,  7,  8,  9],\n",
    "       \n",
    "       [10, 11, 12, 13, 14],\n",
    "       \n",
    "       [15, 16, 17, 18, 19],\n",
    "       \n",
    "       [20, 21, 22, 23, 24]]\n",
    "       \n",
    "我们想要这样的矩阵\n",
    "\n",
    "        [\n",
    "            [6,9],\n",
    "            [11,14]\n",
    "        ]"
   ]
  },
  {
   "cell_type": "markdown",
   "id": "f45e0c85",
   "metadata": {},
   "source": [
    "#### 5. 数据筛选"
   ]
  },
  {
   "cell_type": "code",
   "execution_count": 61,
   "id": "1466e554",
   "metadata": {},
   "outputs": [
    {
     "data": {
      "text/plain": [
       "array([ 0,  2,  4,  6,  8, 10])"
      ]
     },
     "execution_count": 61,
     "metadata": {},
     "output_type": "execute_result"
    }
   ],
   "source": [
    "array08[array08%2==0]"
   ]
  },
  {
   "cell_type": "code",
   "execution_count": 64,
   "id": "93eca0c3",
   "metadata": {},
   "outputs": [
    {
     "data": {
      "text/plain": [
       "array([[0, 1, 2, 3],\n",
       "       [4, 5, 6, 7]])"
      ]
     },
     "execution_count": 64,
     "metadata": {},
     "output_type": "execute_result"
    }
   ],
   "source": [
    "array08[[True,True,False]]"
   ]
  },
  {
   "cell_type": "code",
   "execution_count": null,
   "id": "7ef6ccbf",
   "metadata": {},
   "outputs": [],
   "source": []
  }
 ],
 "metadata": {
  "kernelspec": {
   "display_name": "Python 3",
   "language": "python",
   "name": "python3"
  },
  "language_info": {
   "codemirror_mode": {
    "name": "ipython",
    "version": 3
   },
   "file_extension": ".py",
   "mimetype": "text/x-python",
   "name": "python",
   "nbconvert_exporter": "python",
   "pygments_lexer": "ipython3",
   "version": "3.9.2"
  }
 },
 "nbformat": 4,
 "nbformat_minor": 5
}
