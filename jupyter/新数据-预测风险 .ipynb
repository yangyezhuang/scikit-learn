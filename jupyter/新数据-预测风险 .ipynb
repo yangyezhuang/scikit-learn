{
 "cells": [
  {
   "cell_type": "code",
   "execution_count": 1,
   "id": "51d11510",
   "metadata": {},
   "outputs": [],
   "source": [
    "import pandas as pd\n",
    "import numpy as np\n",
    "import matplotlib.pyplot as plt\n",
    "from sklearn.neighbors import KNeighborsRegressor\n",
    "from sklearn.model_selection import train_test_split\n",
    "from sklearn.preprocessing import StandardScaler\n",
    "\n",
    "# SVM\n",
    "from sklearn.svm import LinearSVC,SVC\n",
    "from sklearn.pipeline import Pipeline\n",
    "from sklearn.model_selection import GridSearchCV,cross_val_score"
   ]
  },
  {
   "cell_type": "markdown",
   "id": "bfa3bcc5",
   "metadata": {},
   "source": [
    "### 1. 数据处理"
   ]
  },
  {
   "cell_type": "code",
   "execution_count": 2,
   "id": "aa5304f6",
   "metadata": {},
   "outputs": [],
   "source": [
    "origin_data=pd.read_csv('../data/per_month_sale_and_risk.csv')"
   ]
  },
  {
   "cell_type": "code",
   "execution_count": 3,
   "id": "dc4291bf",
   "metadata": {},
   "outputs": [
    {
     "data": {
      "text/html": [
       "<div>\n",
       "<style scoped>\n",
       "    .dataframe tbody tr th:only-of-type {\n",
       "        vertical-align: middle;\n",
       "    }\n",
       "\n",
       "    .dataframe tbody tr th {\n",
       "        vertical-align: top;\n",
       "    }\n",
       "\n",
       "    .dataframe thead th {\n",
       "        text-align: right;\n",
       "    }\n",
       "</style>\n",
       "<table border=\"1\" class=\"dataframe\">\n",
       "  <thead>\n",
       "    <tr style=\"text-align: right;\">\n",
       "      <th></th>\n",
       "      <th>Unnamed: 0</th>\n",
       "      <th>店铺ID</th>\n",
       "      <th>店铺名_x</th>\n",
       "      <th>开始时间</th>\n",
       "      <th>风险值</th>\n",
       "      <th>店铺名_y</th>\n",
       "      <th>地区名</th>\n",
       "      <th>销售额</th>\n",
       "    </tr>\n",
       "  </thead>\n",
       "  <tbody>\n",
       "    <tr>\n",
       "      <th>0</th>\n",
       "      <td>0</td>\n",
       "      <td>3d8ab846-7725-11ea-98c9-525400c74cae</td>\n",
       "      <td>1+7水饺店(金科世界城店)</td>\n",
       "      <td>2019-01-01</td>\n",
       "      <td>0.147242</td>\n",
       "      <td>1+7水饺店(金科世界城店)</td>\n",
       "      <td>滨湖区</td>\n",
       "      <td>313.5</td>\n",
       "    </tr>\n",
       "    <tr>\n",
       "      <th>1</th>\n",
       "      <td>1</td>\n",
       "      <td>3d8ab846-7725-11ea-98c9-525400c74cae</td>\n",
       "      <td>1+7水饺店(金科世界城店)</td>\n",
       "      <td>2019-02-01</td>\n",
       "      <td>0.187812</td>\n",
       "      <td>1+7水饺店(金科世界城店)</td>\n",
       "      <td>滨湖区</td>\n",
       "      <td>376.2</td>\n",
       "    </tr>\n",
       "    <tr>\n",
       "      <th>2</th>\n",
       "      <td>2</td>\n",
       "      <td>3d8ab846-7725-11ea-98c9-525400c74cae</td>\n",
       "      <td>1+7水饺店(金科世界城店)</td>\n",
       "      <td>2019-03-01</td>\n",
       "      <td>0.313739</td>\n",
       "      <td>1+7水饺店(金科世界城店)</td>\n",
       "      <td>滨湖区</td>\n",
       "      <td>501.6</td>\n",
       "    </tr>\n",
       "    <tr>\n",
       "      <th>3</th>\n",
       "      <td>3</td>\n",
       "      <td>3d8ab846-7725-11ea-98c9-525400c74cae</td>\n",
       "      <td>1+7水饺店(金科世界城店)</td>\n",
       "      <td>2019-04-01</td>\n",
       "      <td>0.462676</td>\n",
       "      <td>1+7水饺店(金科世界城店)</td>\n",
       "      <td>滨湖区</td>\n",
       "      <td>627.0</td>\n",
       "    </tr>\n",
       "    <tr>\n",
       "      <th>4</th>\n",
       "      <td>4</td>\n",
       "      <td>3d8ab846-7725-11ea-98c9-525400c74cae</td>\n",
       "      <td>1+7水饺店(金科世界城店)</td>\n",
       "      <td>2019-05-01</td>\n",
       "      <td>0.523725</td>\n",
       "      <td>1+7水饺店(金科世界城店)</td>\n",
       "      <td>滨湖区</td>\n",
       "      <td>752.4</td>\n",
       "    </tr>\n",
       "  </tbody>\n",
       "</table>\n",
       "</div>"
      ],
      "text/plain": [
       "   Unnamed: 0                                  店铺ID           店铺名_x  \\\n",
       "0           0  3d8ab846-7725-11ea-98c9-525400c74cae  1+7水饺店(金科世界城店)   \n",
       "1           1  3d8ab846-7725-11ea-98c9-525400c74cae  1+7水饺店(金科世界城店)   \n",
       "2           2  3d8ab846-7725-11ea-98c9-525400c74cae  1+7水饺店(金科世界城店)   \n",
       "3           3  3d8ab846-7725-11ea-98c9-525400c74cae  1+7水饺店(金科世界城店)   \n",
       "4           4  3d8ab846-7725-11ea-98c9-525400c74cae  1+7水饺店(金科世界城店)   \n",
       "\n",
       "         开始时间       风险值           店铺名_y  地区名    销售额  \n",
       "0  2019-01-01  0.147242  1+7水饺店(金科世界城店)  滨湖区  313.5  \n",
       "1  2019-02-01  0.187812  1+7水饺店(金科世界城店)  滨湖区  376.2  \n",
       "2  2019-03-01  0.313739  1+7水饺店(金科世界城店)  滨湖区  501.6  \n",
       "3  2019-04-01  0.462676  1+7水饺店(金科世界城店)  滨湖区  627.0  \n",
       "4  2019-05-01  0.523725  1+7水饺店(金科世界城店)  滨湖区  752.4  "
      ]
     },
     "execution_count": 3,
     "metadata": {},
     "output_type": "execute_result"
    }
   ],
   "source": [
    "origin_data.head()"
   ]
  },
  {
   "cell_type": "code",
   "execution_count": 5,
   "id": "38edac67",
   "metadata": {},
   "outputs": [
    {
     "name": "stderr",
     "output_type": "stream",
     "text": [
      "<ipython-input-5-f58e8a647456>:2: SettingWithCopyWarning: \n",
      "A value is trying to be set on a copy of a slice from a DataFrame.\n",
      "Try using .loc[row_indexer,col_indexer] = value instead\n",
      "\n",
      "See the caveats in the documentation: https://pandas.pydata.org/pandas-docs/stable/user_guide/indexing.html#returning-a-view-versus-a-copy\n",
      "  data['销售额']=data['销售额'].astype(int)\n"
     ]
    },
    {
     "data": {
      "text/html": [
       "<div>\n",
       "<style scoped>\n",
       "    .dataframe tbody tr th:only-of-type {\n",
       "        vertical-align: middle;\n",
       "    }\n",
       "\n",
       "    .dataframe tbody tr th {\n",
       "        vertical-align: top;\n",
       "    }\n",
       "\n",
       "    .dataframe thead th {\n",
       "        text-align: right;\n",
       "    }\n",
       "</style>\n",
       "<table border=\"1\" class=\"dataframe\">\n",
       "  <thead>\n",
       "    <tr style=\"text-align: right;\">\n",
       "      <th></th>\n",
       "      <th>开始时间</th>\n",
       "      <th>风险值</th>\n",
       "      <th>地区名</th>\n",
       "      <th>销售额</th>\n",
       "    </tr>\n",
       "  </thead>\n",
       "  <tbody>\n",
       "    <tr>\n",
       "      <th>0</th>\n",
       "      <td>2019-01-01</td>\n",
       "      <td>0.147242</td>\n",
       "      <td>滨湖区</td>\n",
       "      <td>313</td>\n",
       "    </tr>\n",
       "    <tr>\n",
       "      <th>1</th>\n",
       "      <td>2019-02-01</td>\n",
       "      <td>0.187812</td>\n",
       "      <td>滨湖区</td>\n",
       "      <td>376</td>\n",
       "    </tr>\n",
       "    <tr>\n",
       "      <th>2</th>\n",
       "      <td>2019-03-01</td>\n",
       "      <td>0.313739</td>\n",
       "      <td>滨湖区</td>\n",
       "      <td>501</td>\n",
       "    </tr>\n",
       "    <tr>\n",
       "      <th>3</th>\n",
       "      <td>2019-04-01</td>\n",
       "      <td>0.462676</td>\n",
       "      <td>滨湖区</td>\n",
       "      <td>627</td>\n",
       "    </tr>\n",
       "    <tr>\n",
       "      <th>4</th>\n",
       "      <td>2019-05-01</td>\n",
       "      <td>0.523725</td>\n",
       "      <td>滨湖区</td>\n",
       "      <td>752</td>\n",
       "    </tr>\n",
       "    <tr>\n",
       "      <th>...</th>\n",
       "      <td>...</td>\n",
       "      <td>...</td>\n",
       "      <td>...</td>\n",
       "      <td>...</td>\n",
       "    </tr>\n",
       "    <tr>\n",
       "      <th>70938</th>\n",
       "      <td>2019-08-01</td>\n",
       "      <td>0.635473</td>\n",
       "      <td>梁溪区</td>\n",
       "      <td>1349</td>\n",
       "    </tr>\n",
       "    <tr>\n",
       "      <th>70939</th>\n",
       "      <td>2019-09-01</td>\n",
       "      <td>0.549814</td>\n",
       "      <td>梁溪区</td>\n",
       "      <td>1141</td>\n",
       "    </tr>\n",
       "    <tr>\n",
       "      <th>70940</th>\n",
       "      <td>2019-10-01</td>\n",
       "      <td>0.372998</td>\n",
       "      <td>梁溪区</td>\n",
       "      <td>1038</td>\n",
       "    </tr>\n",
       "    <tr>\n",
       "      <th>70941</th>\n",
       "      <td>2019-11-01</td>\n",
       "      <td>0.268777</td>\n",
       "      <td>梁溪区</td>\n",
       "      <td>934</td>\n",
       "    </tr>\n",
       "    <tr>\n",
       "      <th>70942</th>\n",
       "      <td>2019-12-01</td>\n",
       "      <td>0.247738</td>\n",
       "      <td>梁溪区</td>\n",
       "      <td>726</td>\n",
       "    </tr>\n",
       "  </tbody>\n",
       "</table>\n",
       "<p>70943 rows × 4 columns</p>\n",
       "</div>"
      ],
      "text/plain": [
       "             开始时间       风险值  地区名   销售额\n",
       "0      2019-01-01  0.147242  滨湖区   313\n",
       "1      2019-02-01  0.187812  滨湖区   376\n",
       "2      2019-03-01  0.313739  滨湖区   501\n",
       "3      2019-04-01  0.462676  滨湖区   627\n",
       "4      2019-05-01  0.523725  滨湖区   752\n",
       "...           ...       ...  ...   ...\n",
       "70938  2019-08-01  0.635473  梁溪区  1349\n",
       "70939  2019-09-01  0.549814  梁溪区  1141\n",
       "70940  2019-10-01  0.372998  梁溪区  1038\n",
       "70941  2019-11-01  0.268777  梁溪区   934\n",
       "70942  2019-12-01  0.247738  梁溪区   726\n",
       "\n",
       "[70943 rows x 4 columns]"
      ]
     },
     "execution_count": 5,
     "metadata": {},
     "output_type": "execute_result"
    }
   ],
   "source": [
    "data=origin_data[['开始时间','风险值','地区名','销售额']]\n",
    "data['销售额']=data['销售额'].astype(int)\n",
    "data"
   ]
  },
  {
   "cell_type": "code",
   "execution_count": 11,
   "id": "a6ee09f8",
   "metadata": {},
   "outputs": [],
   "source": [
    "#### 把地区名转化为数值\n",
    "data_del=pd.get_dummies(data,columns=['地区名'])\n",
    "#### 新建月份列\n",
    "data_del['month']=data_del['开始时间'].map(lambda t:int(t.split('-')[1]))\n",
    "data_del=data_del.drop('开始时间',axis=1)"
   ]
  },
  {
   "cell_type": "code",
   "execution_count": 12,
   "id": "25bf0af7",
   "metadata": {},
   "outputs": [
    {
     "data": {
      "text/html": [
       "<div>\n",
       "<style scoped>\n",
       "    .dataframe tbody tr th:only-of-type {\n",
       "        vertical-align: middle;\n",
       "    }\n",
       "\n",
       "    .dataframe tbody tr th {\n",
       "        vertical-align: top;\n",
       "    }\n",
       "\n",
       "    .dataframe thead th {\n",
       "        text-align: right;\n",
       "    }\n",
       "</style>\n",
       "<table border=\"1\" class=\"dataframe\">\n",
       "  <thead>\n",
       "    <tr style=\"text-align: right;\">\n",
       "      <th></th>\n",
       "      <th>风险值</th>\n",
       "      <th>销售额</th>\n",
       "      <th>地区名_宜兴市</th>\n",
       "      <th>地区名_新吴区</th>\n",
       "      <th>地区名_梁溪区</th>\n",
       "      <th>地区名_江阴市</th>\n",
       "      <th>地区名_滨湖区</th>\n",
       "      <th>地区名_锡山区</th>\n",
       "      <th>month</th>\n",
       "    </tr>\n",
       "  </thead>\n",
       "  <tbody>\n",
       "    <tr>\n",
       "      <th>0</th>\n",
       "      <td>0.147242</td>\n",
       "      <td>313</td>\n",
       "      <td>0</td>\n",
       "      <td>0</td>\n",
       "      <td>0</td>\n",
       "      <td>0</td>\n",
       "      <td>1</td>\n",
       "      <td>0</td>\n",
       "      <td>1</td>\n",
       "    </tr>\n",
       "    <tr>\n",
       "      <th>1</th>\n",
       "      <td>0.187812</td>\n",
       "      <td>376</td>\n",
       "      <td>0</td>\n",
       "      <td>0</td>\n",
       "      <td>0</td>\n",
       "      <td>0</td>\n",
       "      <td>1</td>\n",
       "      <td>0</td>\n",
       "      <td>2</td>\n",
       "    </tr>\n",
       "    <tr>\n",
       "      <th>2</th>\n",
       "      <td>0.313739</td>\n",
       "      <td>501</td>\n",
       "      <td>0</td>\n",
       "      <td>0</td>\n",
       "      <td>0</td>\n",
       "      <td>0</td>\n",
       "      <td>1</td>\n",
       "      <td>0</td>\n",
       "      <td>3</td>\n",
       "    </tr>\n",
       "    <tr>\n",
       "      <th>3</th>\n",
       "      <td>0.462676</td>\n",
       "      <td>627</td>\n",
       "      <td>0</td>\n",
       "      <td>0</td>\n",
       "      <td>0</td>\n",
       "      <td>0</td>\n",
       "      <td>1</td>\n",
       "      <td>0</td>\n",
       "      <td>4</td>\n",
       "    </tr>\n",
       "    <tr>\n",
       "      <th>4</th>\n",
       "      <td>0.523725</td>\n",
       "      <td>752</td>\n",
       "      <td>0</td>\n",
       "      <td>0</td>\n",
       "      <td>0</td>\n",
       "      <td>0</td>\n",
       "      <td>1</td>\n",
       "      <td>0</td>\n",
       "      <td>5</td>\n",
       "    </tr>\n",
       "  </tbody>\n",
       "</table>\n",
       "</div>"
      ],
      "text/plain": [
       "        风险值  销售额  地区名_宜兴市  地区名_新吴区  地区名_梁溪区  地区名_江阴市  地区名_滨湖区  地区名_锡山区  month\n",
       "0  0.147242  313        0        0        0        0        1        0      1\n",
       "1  0.187812  376        0        0        0        0        1        0      2\n",
       "2  0.313739  501        0        0        0        0        1        0      3\n",
       "3  0.462676  627        0        0        0        0        1        0      4\n",
       "4  0.523725  752        0        0        0        0        1        0      5"
      ]
     },
     "execution_count": 12,
     "metadata": {},
     "output_type": "execute_result"
    }
   ],
   "source": [
    "data_del.head()"
   ]
  },
  {
   "cell_type": "markdown",
   "id": "d62f8f16",
   "metadata": {},
   "source": [
    "### 2. KNN"
   ]
  },
  {
   "cell_type": "code",
   "execution_count": 13,
   "id": "28bc3351",
   "metadata": {},
   "outputs": [],
   "source": [
    "y=data_del['风险值']\n",
    "x=data_del.drop('风险值',axis=1)"
   ]
  },
  {
   "cell_type": "code",
   "execution_count": 18,
   "id": "7095f07b",
   "metadata": {},
   "outputs": [],
   "source": [
    "X_train, X_test, y_train, y_test = train_test_split(x, y, test_size=0.2) "
   ]
  },
  {
   "cell_type": "markdown",
   "id": "81253744",
   "metadata": {},
   "source": [
    "#### 设计一个函数"
   ]
  },
  {
   "cell_type": "code",
   "execution_count": 24,
   "id": "ffde94ab",
   "metadata": {},
   "outputs": [],
   "source": [
    "def get_best_model_and_accuracy(model, params, X, y):\n",
    "    grid = GridSearchCV(model,           # 网格搜索的模型\n",
    "                        params,          # 搜索的参数\n",
    "                        error_score=0.)  # 如果出错 正确率是0\n",
    "    grid.fit(X, y)           # 拟合模型和参数\n",
    "    # 经典性能参数\n",
    "    print(\"Best Accuracy: {}\".format(grid.best_score_))\n",
    "    # 最佳精度的最佳参数\n",
    "    print(\"Best Parameters: {}\".format(grid.best_params_))\n",
    "    # 平均拟合数据的时间（秒）\n",
    "    print(\"Average Time to Fit (s): {}\".format(round(grid.cv_results_['mean_fit_time'].mean(), 3)))\n",
    "    # 平均预测数据的时间（秒）\n",
    "    # 这个参数会帮助实时分析\n",
    "    print(\"Average Time to Score (s): {}\".format(round(grid.cv_results_['mean_score_time'].mean(), 3)))"
   ]
  },
  {
   "cell_type": "code",
   "execution_count": 25,
   "id": "8a0d4170",
   "metadata": {},
   "outputs": [
    {
     "name": "stdout",
     "output_type": "stream",
     "text": [
      "Best Accuracy: 0.968331711973961\n",
      "Best Parameters: {'n_neighbors': 19}\n",
      "Average Time to Fit (s): 0.773\n",
      "Average Time to Score (s): 0.413\n"
     ]
    }
   ],
   "source": [
    "params = {'n_neighbors':list(range(1,20))}\n",
    "standarScaler = StandardScaler()\n",
    "standarScaler.fit(X_train)\n",
    "X_train_std = standarScaler.transform(X_train)\n",
    "X_test_std = standarScaler.transform(X_test)\n",
    "knn = KNeighborsRegressor()\n",
    "\n",
    "get_best_model_and_accuracy(knn, params, X_train_std, y_train)"
   ]
  },
  {
   "cell_type": "code",
   "execution_count": 26,
   "id": "d2a1bab2",
   "metadata": {},
   "outputs": [
    {
     "name": "stdout",
     "output_type": "stream",
     "text": [
      "0.9432665652071853 1\n",
      "0.9571597689196758 2\n",
      "0.962021037524622 3\n",
      "0.9642227576802526 4\n",
      "0.9655269215534583 5\n",
      "0.9664229666450779 6\n",
      "0.9668451493611333 7\n",
      "0.9673232693296341 8\n",
      "0.9678316428597513 9\n",
      "0.9683506050321075 10\n",
      "0.9685534372435226 11\n",
      "0.968729696703833 12\n",
      "0.9689576719750594 13\n",
      "0.9689579339943781 14\n",
      "0.9691056818251161 15\n",
      "0.9691971624202279 16\n",
      "0.9692457378025523 17\n",
      "0.9693362910811565 18\n",
      "0.9693920347836372 19\n"
     ]
    }
   ],
   "source": [
    "standarScaler = StandardScaler()\n",
    "standarScaler.fit(X_train)\n",
    "X_train_std = standarScaler.transform(X_train)\n",
    "X_test_std = standarScaler.transform(X_test)\n",
    "for i in range(1,20):\n",
    "    knn_clf = KNeighborsRegressor(n_neighbors=i)\n",
    "    knn_clf.fit(X_train_std,y_train)\n",
    "    score = knn_clf.score(X_test_std, y_test)\n",
    "    print(score,i)"
   ]
  },
  {
   "cell_type": "markdown",
   "id": "d74cb2a5",
   "metadata": {},
   "source": [
    "### 3. 训练模型加预测"
   ]
  },
  {
   "cell_type": "code",
   "execution_count": 19,
   "id": "70b16f1e",
   "metadata": {},
   "outputs": [
    {
     "data": {
      "text/plain": [
       "KNeighborsRegressor(n_neighbors=12)"
      ]
     },
     "execution_count": 19,
     "metadata": {},
     "output_type": "execute_result"
    }
   ],
   "source": [
    "standarScaler = StandardScaler()\n",
    "standarScaler.fit(X_train)\n",
    "X_train_std = standarScaler.transform(X_train)\n",
    "X_test_std = standarScaler.transform(X_test)\n",
    "knn_model = KNeighborsRegressor(n_neighbors=12)\n",
    "knn_model.fit(X_train_std,y_train)"
   ]
  },
  {
   "cell_type": "markdown",
   "id": "e67a21c5",
   "metadata": {},
   "source": [
    "#### 注意此处一定要用标准化后的数据去预测"
   ]
  },
  {
   "cell_type": "code",
   "execution_count": 28,
   "id": "7a0d760d",
   "metadata": {},
   "outputs": [
    {
     "data": {
      "text/plain": [
       "array([0.48488441, 0.98119628, 0.93627019, 0.41533974, 0.09948398,\n",
       "       0.45634006, 0.35031201, 0.98520118, 0.28367424])"
      ]
     },
     "execution_count": 28,
     "metadata": {},
     "output_type": "execute_result"
    }
   ],
   "source": [
    "v=knn_model.predict(X_test_std[1:10])\n",
    "v"
   ]
  },
  {
   "cell_type": "code",
   "execution_count": 29,
   "id": "a4d1e4a2",
   "metadata": {},
   "outputs": [
    {
     "data": {
      "text/plain": [
       "27348    0.439165\n",
       "65964    0.976989\n",
       "66835    0.994179\n",
       "33675    0.398401\n",
       "44534    0.136568\n",
       "2967     0.474909\n",
       "55236    0.336594\n",
       "56307    0.986650\n",
       "34953    0.252602\n",
       "Name: 风险值, dtype: float64"
      ]
     },
     "execution_count": 29,
     "metadata": {},
     "output_type": "execute_result"
    }
   ],
   "source": [
    "y_test[1:10]"
   ]
  },
  {
   "cell_type": "markdown",
   "id": "2b40eb6b",
   "metadata": {},
   "source": [
    "### 4. 聚类算法"
   ]
  },
  {
   "cell_type": "code",
   "execution_count": 32,
   "id": "c83608e4",
   "metadata": {},
   "outputs": [
    {
     "data": {
      "text/plain": [
       "0.4316566635422992"
      ]
     },
     "execution_count": 32,
     "metadata": {},
     "output_type": "execute_result"
    }
   ],
   "source": [
    "# 中位数\n",
    "y.median()"
   ]
  },
  {
   "cell_type": "code",
   "execution_count": 33,
   "id": "8bd2f9b4",
   "metadata": {},
   "outputs": [
    {
     "data": {
      "text/plain": [
       "{'whiskers': [<matplotlib.lines.Line2D at 0x149238b26d0>,\n",
       "  <matplotlib.lines.Line2D at 0x149238b2e50>],\n",
       " 'caps': [<matplotlib.lines.Line2D at 0x149238b23a0>,\n",
       "  <matplotlib.lines.Line2D at 0x14923829160>],\n",
       " 'boxes': [<matplotlib.lines.Line2D at 0x149238b21c0>],\n",
       " 'medians': [<matplotlib.lines.Line2D at 0x149238294c0>],\n",
       " 'fliers': [<matplotlib.lines.Line2D at 0x14923829820>],\n",
       " 'means': []}"
      ]
     },
     "execution_count": 33,
     "metadata": {},
     "output_type": "execute_result"
    },
    {
     "data": {
      "image/png": "[encoded data removed]",
      "text/plain": [
       "<Figure size 432x288 with 1 Axes>"
      ]
     },
     "metadata": {
      "needs_background": "light"
     },
     "output_type": "display_data"
    }
   ],
   "source": [
    "plt.boxplot(y)"
   ]
  },
  {
   "cell_type": "markdown",
   "id": "bba97202",
   "metadata": {},
   "source": [
    "##### 1）聚类分险值"
   ]
  },
  {
   "cell_type": "code",
   "execution_count": 33,
   "id": "74c34153",
   "metadata": {},
   "outputs": [
    {
     "name": "stdout",
     "output_type": "stream",
     "text": [
      "70943\n",
      "[[0.52318526]\n",
      " [0.90558604]\n",
      " [0.2312529 ]]\n",
      "3\n"
     ]
    },
    {
     "name": "stderr",
     "output_type": "stream",
     "text": [
      "/Users/liangzhan/miniforge3/lib/python3.9/site-packages/sklearn/utils/validation.py:70: FutureWarning: Pass init=k-means++ as keyword args. From version 1.0 (renaming of 0.25) passing these as positional arguments will result in an error\n",
      "  warnings.warn(f\"Pass {args_msg} as keyword args. From version \"\n"
     ]
    }
   ],
   "source": [
    "from sklearn.cluster import KMeans\n",
    "# 创建KMeans类对象\n",
    "y=data['风险值']\n",
    "kmeans = KMeans(3, 'k-means++')\n",
    "# 调用fit方法\n",
    "kmeans.fit(pd.DataFrame(y))\n",
    "print(len(kmeans.labels_))\n",
    "print(kmeans.cluster_centers_)\n",
    "print(kmeans.n_clusters)\n",
    "result = kmeans.predict([[0.78]])"
   ]
  },
  {
   "cell_type": "code",
   "execution_count": 22,
   "id": "a7d34b15",
   "metadata": {
    "scrolled": true
   },
   "outputs": [
    {
     "name": "stdout",
     "output_type": "stream",
     "text": [
      "min: 风险值    0.714506\n",
      "dtype: float64\n",
      "max: 风险值    0.999998\n",
      "dtype: float64\n",
      "[1 1 1 ... 1 1 1]\n",
      "[[0.90559716]\n",
      " [0.23138823]\n",
      " [0.52336741]]\n"
     ]
    },
    {
     "name": "stderr",
     "output_type": "stream",
     "text": [
      "/Users/liangzhan/miniforge3/lib/python3.9/site-packages/sklearn/utils/validation.py:70: FutureWarning: Pass init=k-means++ as keyword args. From version 1.0 (renaming of 0.25) passing these as positional arguments will result in an error\n",
      "  warnings.warn(f\"Pass {args_msg} as keyword args. From version \"\n"
     ]
    }
   ],
   "source": [
    "#获取数据\n",
    "t=pd.DataFrame(y)\n",
    "# 创建KMeans类对象\n",
    "from sklearn.cluster import KMeans\n",
    "kmeans = KMeans(3, 'k-means++')\n",
    "# 调用fit方法\n",
    "kmeans.fit(t)\n",
    "a = t[kmeans.labels_==0]  #按照0,1,2类别过滤\n",
    "b=a.sort_values(by='风险值') #排序\n",
    "print(\"min:\",b.min())\n",
    "print(\"max:\",b.max())\n",
    "\n",
    "#查看数据\n",
    "# print(t[kmeans.labels_==0])\n",
    "#查看类别\n",
    "print(kmeans.labels_)\n",
    "#查看中心点\n",
    "print(kmeans.cluster_centers_)\n",
    "result = kmeans.predict([[0.78]])#预测"
   ]
  },
  {
   "cell_type": "markdown",
   "id": "076c0352",
   "metadata": {},
   "source": [
    "##### 2) 聚类销售值"
   ]
  },
  {
   "cell_type": "code",
   "execution_count": 45,
   "id": "517cbe93",
   "metadata": {},
   "outputs": [
    {
     "name": "stderr",
     "output_type": "stream",
     "text": [
      "C:\\ProgramData\\Anaconda3\\lib\\site-packages\\sklearn\\utils\\validation.py:67: FutureWarning: Pass init=k-means++ as keyword args. From version 0.25 passing these as positional arguments will result in an error\n",
      "  warnings.warn(\"Pass {} as keyword args. From version 0.25 \"\n"
     ]
    },
    {
     "name": "stdout",
     "output_type": "stream",
     "text": [
      "70943\n",
      "[[ 573.75092733]\n",
      " [1679.43010546]\n",
      " [3334.70960591]]\n",
      "3\n"
     ]
    }
   ],
   "source": [
    "# 创建KMeans类对象\n",
    "y=data['销售额']\n",
    "from sklearn.cluster import KMeans\n",
    "kmeans = KMeans(3, 'k-means++')\n",
    "# 调用fit方法\n",
    "kmeans.fit(pd.DataFrame(y))\n",
    "print(len(kmeans.labels_))\n",
    "print(kmeans.cluster_centers_)\n",
    "print(kmeans.n_clusters)\n",
    "result = kmeans.predict([[0.78]])"
   ]
  }
 ],
 "metadata": {
  "kernelspec": {
   "display_name": "Python 3",
   "language": "python",
   "name": "python3"
  },
  "language_info": {
   "codemirror_mode": {
    "name": "ipython",
    "version": 3
   },
   "file_extension": ".py",
   "mimetype": "text/x-python",
   "name": "python",
   "nbconvert_exporter": "python",
   "pygments_lexer": "ipython3",
   "version": "3.9.2"
  }
 },
 "nbformat": 4,
 "nbformat_minor": 5
}
