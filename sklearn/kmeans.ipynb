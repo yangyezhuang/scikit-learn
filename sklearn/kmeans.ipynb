{
 "metadata": {
  "language_info": {
   "codemirror_mode": {
    "name": "ipython",
    "version": 3
   },
   "file_extension": ".py",
   "mimetype": "text/x-python",
   "name": "python",
   "nbconvert_exporter": "python",
   "pygments_lexer": "ipython3",
   "version": "3.8.8"
  },
  "orig_nbformat": 2,
  "kernelspec": {
   "name": "python3",
   "language": "python",
   "display_name": "Python 3"
  }
 },
 "nbformat": 4,
 "nbformat_minor": 2,
 "cells": [
  {
   "cell_type": "code",
   "execution_count": 1,
   "source": [
    "import pandas as pd\r\n",
    "from sklearn.cluster import KMeans\r\n",
    "\r\n",
    "record  = pd.read_csv('..\\data/food_record.csv')\r\n",
    "store = pd.read_csv('..\\data/food_store.csv')\r\n",
    "\r\n",
    "data = pd.merge(record,store,on='店铺ID')\r\n",
    "data_del = data.drop(['店铺ID','店铺名_x','店铺名_y'],axis=1)\r\n",
    "data_del.to_csv('..\\data\\per_month_sale_and_risk.csv')"
   ],
   "outputs": [],
   "metadata": {}
  },
  {
   "cell_type": "code",
   "execution_count": 2,
   "source": [
    "def get_data():\r\n",
    "    data = pd.read_csv(r'..\\data\\per_month_sale_and_risk.csv')\r\n",
    "    data = data[['开始时间', '风险值', '地区名', '销售额']]\r\n",
    "    data['销售额'] = data['销售额'].astype(int)\r\n",
    "    # 把地区名转化为数值\r\n",
    "    data_del = pd.get_dummies(data, columns=['地区名'])\r\n",
    "    # 新建月份列\r\n",
    "    data_del['month'] = data_del['开始时间'].map(lambda t: int(t.split('-')[1]))\r\n",
    "    data_del = data_del.drop('开始时间', axis=1)\r\n",
    "    return data_del\r\n",
    "\r\n",
    "\r\n",
    "# 聚类函数，并实现排序、保存\r\n",
    "def save_type(df, mode='w'):\r\n",
    "    # 创建KMeans类对象\r\n",
    "    kmeans = KMeans(3, 'k-means++')\r\n",
    "    # 调用fit方法\r\n",
    "    kmeans.fit(df)\r\n",
    "    df_res = pd.DataFrame(kmeans.cluster_centers_.flatten())\r\n",
    "    sort_res = df_res.sort_values(by=0)\r\n",
    "    sort_res.T.to_csv('type.csv', header=None, index=None, mode=mode)\r\n",
    "\r\n",
    "\r\n",
    "# 风险值  销售额    地区名_宜兴市    地区名_新吴区    地区名_梁溪区    地区名_江阴市    地区名_滨湖区    地区名_锡山区    month\r\n",
    "if __name__ == '__main__':\r\n",
    "    # 读入所有数据\r\n",
    "    dd = get_data()\r\n",
    "    # 保存风险聚类\r\n",
    "    save_type(dd.iloc[:, :1])\r\n",
    "    # 保存销量聚类\r\n",
    "    save_type(dd.iloc[:, 1:2], mode='a')"
   ],
   "outputs": [
    {
     "output_type": "stream",
     "name": "stderr",
     "text": [
      "D:\\Python38\\lib\\site-packages\\sklearn\\utils\\validation.py:70: FutureWarning: Pass init=k-means++ as keyword args. From version 1.0 (renaming of 0.25) passing these as positional arguments will result in an error\n",
      "  warnings.warn(f\"Pass {args_msg} as keyword args. From version \"\n",
      "D:\\Python38\\lib\\site-packages\\sklearn\\utils\\validation.py:70: FutureWarning: Pass init=k-means++ as keyword args. From version 1.0 (renaming of 0.25) passing these as positional arguments will result in an error\n",
      "  warnings.warn(f\"Pass {args_msg} as keyword args. From version \"\n"
     ]
    }
   ],
   "metadata": {}
  },
  {
   "cell_type": "code",
   "execution_count": null,
   "source": [],
   "outputs": [],
   "metadata": {}
  }
 ]
}