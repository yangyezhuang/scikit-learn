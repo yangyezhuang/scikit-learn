{
 "cells": [
  {
   "cell_type": "code",
   "execution_count": 2,
   "id": "f3f9cdb6",
   "metadata": {},
   "outputs": [],
   "source": [
    "import pandas as pd\n",
    "import numpy as np\n",
    "import matplotlib.pyplot as plt"
   ]
  },
  {
   "cell_type": "markdown",
   "id": "2c6a6da6",
   "metadata": {},
   "source": [
    "### 1. 处理数据"
   ]
  },
  {
   "cell_type": "code",
   "execution_count": 3,
   "id": "8a7d7179",
   "metadata": {},
   "outputs": [],
   "source": [
    "origin_data=pd.read_csv('../data/per_month_sale_and_risk.csv')"
   ]
  },
  {
   "cell_type": "code",
   "execution_count": 4,
   "id": "ba6fdbe2",
   "metadata": {},
   "outputs": [
    {
     "name": "stderr",
     "output_type": "stream",
     "text": [
      "<ipython-input-4-de36d3f2fadd>:2: SettingWithCopyWarning: \n",
      "A value is trying to be set on a copy of a slice from a DataFrame.\n",
      "Try using .loc[row_indexer,col_indexer] = value instead\n",
      "\n",
      "See the caveats in the documentation: https://pandas.pydata.org/pandas-docs/stable/user_guide/indexing.html#returning-a-view-versus-a-copy\n",
      "  data['销售额']=data['销售额'].astype(np.int32)\n"
     ]
    },
    {
     "data": {
      "text/html": [
       "<div>\n",
       "<style scoped>\n",
       "    .dataframe tbody tr th:only-of-type {\n",
       "        vertical-align: middle;\n",
       "    }\n",
       "\n",
       "    .dataframe tbody tr th {\n",
       "        vertical-align: top;\n",
       "    }\n",
       "\n",
       "    .dataframe thead th {\n",
       "        text-align: right;\n",
       "    }\n",
       "</style>\n",
       "<table border=\"1\" class=\"dataframe\">\n",
       "  <thead>\n",
       "    <tr style=\"text-align: right;\">\n",
       "      <th></th>\n",
       "      <th>开始时间</th>\n",
       "      <th>风险值</th>\n",
       "      <th>地区名</th>\n",
       "      <th>销售额</th>\n",
       "    </tr>\n",
       "  </thead>\n",
       "  <tbody>\n",
       "    <tr>\n",
       "      <th>0</th>\n",
       "      <td>2019-01-01</td>\n",
       "      <td>0.147242</td>\n",
       "      <td>滨湖区</td>\n",
       "      <td>313</td>\n",
       "    </tr>\n",
       "    <tr>\n",
       "      <th>1</th>\n",
       "      <td>2019-02-01</td>\n",
       "      <td>0.187812</td>\n",
       "      <td>滨湖区</td>\n",
       "      <td>376</td>\n",
       "    </tr>\n",
       "    <tr>\n",
       "      <th>2</th>\n",
       "      <td>2019-03-01</td>\n",
       "      <td>0.313739</td>\n",
       "      <td>滨湖区</td>\n",
       "      <td>501</td>\n",
       "    </tr>\n",
       "    <tr>\n",
       "      <th>3</th>\n",
       "      <td>2019-04-01</td>\n",
       "      <td>0.462676</td>\n",
       "      <td>滨湖区</td>\n",
       "      <td>627</td>\n",
       "    </tr>\n",
       "    <tr>\n",
       "      <th>4</th>\n",
       "      <td>2019-05-01</td>\n",
       "      <td>0.523725</td>\n",
       "      <td>滨湖区</td>\n",
       "      <td>752</td>\n",
       "    </tr>\n",
       "    <tr>\n",
       "      <th>...</th>\n",
       "      <td>...</td>\n",
       "      <td>...</td>\n",
       "      <td>...</td>\n",
       "      <td>...</td>\n",
       "    </tr>\n",
       "    <tr>\n",
       "      <th>70938</th>\n",
       "      <td>2019-08-01</td>\n",
       "      <td>0.635473</td>\n",
       "      <td>梁溪区</td>\n",
       "      <td>1349</td>\n",
       "    </tr>\n",
       "    <tr>\n",
       "      <th>70939</th>\n",
       "      <td>2019-09-01</td>\n",
       "      <td>0.549814</td>\n",
       "      <td>梁溪区</td>\n",
       "      <td>1141</td>\n",
       "    </tr>\n",
       "    <tr>\n",
       "      <th>70940</th>\n",
       "      <td>2019-10-01</td>\n",
       "      <td>0.372998</td>\n",
       "      <td>梁溪区</td>\n",
       "      <td>1038</td>\n",
       "    </tr>\n",
       "    <tr>\n",
       "      <th>70941</th>\n",
       "      <td>2019-11-01</td>\n",
       "      <td>0.268777</td>\n",
       "      <td>梁溪区</td>\n",
       "      <td>934</td>\n",
       "    </tr>\n",
       "    <tr>\n",
       "      <th>70942</th>\n",
       "      <td>2019-12-01</td>\n",
       "      <td>0.247738</td>\n",
       "      <td>梁溪区</td>\n",
       "      <td>726</td>\n",
       "    </tr>\n",
       "  </tbody>\n",
       "</table>\n",
       "<p>70943 rows × 4 columns</p>\n",
       "</div>"
      ],
      "text/plain": [
       "             开始时间       风险值  地区名   销售额\n",
       "0      2019-01-01  0.147242  滨湖区   313\n",
       "1      2019-02-01  0.187812  滨湖区   376\n",
       "2      2019-03-01  0.313739  滨湖区   501\n",
       "3      2019-04-01  0.462676  滨湖区   627\n",
       "4      2019-05-01  0.523725  滨湖区   752\n",
       "...           ...       ...  ...   ...\n",
       "70938  2019-08-01  0.635473  梁溪区  1349\n",
       "70939  2019-09-01  0.549814  梁溪区  1141\n",
       "70940  2019-10-01  0.372998  梁溪区  1038\n",
       "70941  2019-11-01  0.268777  梁溪区   934\n",
       "70942  2019-12-01  0.247738  梁溪区   726\n",
       "\n",
       "[70943 rows x 4 columns]"
      ]
     },
     "execution_count": 4,
     "metadata": {},
     "output_type": "execute_result"
    }
   ],
   "source": [
    "data=origin_data[['开始时间','风险值','地区名','销售额']]\n",
    "data['销售额']=data['销售额'].astype(np.int32)\n",
    "data"
   ]
  },
  {
   "cell_type": "markdown",
   "id": "51c5cc78",
   "metadata": {},
   "source": [
    "#### 把地区名转化为数值"
   ]
  },
  {
   "cell_type": "markdown",
   "id": "e303e5ed",
   "metadata": {},
   "source": [
    "先记住对离散数据进行编码的总原则：\n",
    "\n",
    "    离散特征的取值之间没有大小的意义，比如color：[red,blue], 性别的男女等，那么就使用OneHot编码\n",
    "    离散特征的取值有大小的意义，比如size:[X,XL,XXL],身高的高，中，低等，那么就使用数值的映射（数字）{X:1,XL:2,XXL:3}进行编码"
   ]
  },
  {
   "cell_type": "code",
   "execution_count": 5,
   "id": "b84930bb",
   "metadata": {},
   "outputs": [],
   "source": [
    "data_del=pd.get_dummies(data,columns=['地区名'])"
   ]
  },
  {
   "cell_type": "markdown",
   "id": "a795a2ef",
   "metadata": {},
   "source": [
    "#### 新建月份列"
   ]
  },
  {
   "cell_type": "code",
   "execution_count": 6,
   "id": "5e049811",
   "metadata": {},
   "outputs": [
    {
     "name": "stdout",
     "output_type": "stream",
     "text": [
      "<class 'pandas.core.frame.DataFrame'>\n",
      "RangeIndex: 70943 entries, 0 to 70942\n",
      "Data columns (total 10 columns):\n",
      " #   Column   Non-Null Count  Dtype  \n",
      "---  ------   --------------  -----  \n",
      " 0   开始时间     70943 non-null  object \n",
      " 1   风险值      70943 non-null  float64\n",
      " 2   销售额      70943 non-null  int32  \n",
      " 3   地区名_宜兴市  70943 non-null  uint8  \n",
      " 4   地区名_新吴区  70943 non-null  uint8  \n",
      " 5   地区名_梁溪区  70943 non-null  uint8  \n",
      " 6   地区名_江阴市  70943 non-null  uint8  \n",
      " 7   地区名_滨湖区  70943 non-null  uint8  \n",
      " 8   地区名_锡山区  70943 non-null  uint8  \n",
      " 9   month    70943 non-null  int64  \n",
      "dtypes: float64(1), int32(1), int64(1), object(1), uint8(6)\n",
      "memory usage: 2.3+ MB\n"
     ]
    }
   ],
   "source": [
    "data_del['month']=data_del['开始时间'].map(lambda t:int(t.split('-')[1]))\n",
    "\n",
    "data_del.info()\n"
   ]
  },
  {
   "cell_type": "code",
   "execution_count": 7,
   "id": "27c7c6e6",
   "metadata": {},
   "outputs": [
    {
     "data": {
      "text/html": [
       "<div>\n",
       "<style scoped>\n",
       "    .dataframe tbody tr th:only-of-type {\n",
       "        vertical-align: middle;\n",
       "    }\n",
       "\n",
       "    .dataframe tbody tr th {\n",
       "        vertical-align: top;\n",
       "    }\n",
       "\n",
       "    .dataframe thead th {\n",
       "        text-align: right;\n",
       "    }\n",
       "</style>\n",
       "<table border=\"1\" class=\"dataframe\">\n",
       "  <thead>\n",
       "    <tr style=\"text-align: right;\">\n",
       "      <th></th>\n",
       "      <th>风险值</th>\n",
       "      <th>销售额</th>\n",
       "      <th>地区名_宜兴市</th>\n",
       "      <th>地区名_新吴区</th>\n",
       "      <th>地区名_梁溪区</th>\n",
       "      <th>地区名_江阴市</th>\n",
       "      <th>地区名_滨湖区</th>\n",
       "      <th>地区名_锡山区</th>\n",
       "      <th>month</th>\n",
       "    </tr>\n",
       "  </thead>\n",
       "  <tbody>\n",
       "    <tr>\n",
       "      <th>0</th>\n",
       "      <td>0.147242</td>\n",
       "      <td>313</td>\n",
       "      <td>0</td>\n",
       "      <td>0</td>\n",
       "      <td>0</td>\n",
       "      <td>0</td>\n",
       "      <td>1</td>\n",
       "      <td>0</td>\n",
       "      <td>1</td>\n",
       "    </tr>\n",
       "    <tr>\n",
       "      <th>1</th>\n",
       "      <td>0.187812</td>\n",
       "      <td>376</td>\n",
       "      <td>0</td>\n",
       "      <td>0</td>\n",
       "      <td>0</td>\n",
       "      <td>0</td>\n",
       "      <td>1</td>\n",
       "      <td>0</td>\n",
       "      <td>2</td>\n",
       "    </tr>\n",
       "    <tr>\n",
       "      <th>2</th>\n",
       "      <td>0.313739</td>\n",
       "      <td>501</td>\n",
       "      <td>0</td>\n",
       "      <td>0</td>\n",
       "      <td>0</td>\n",
       "      <td>0</td>\n",
       "      <td>1</td>\n",
       "      <td>0</td>\n",
       "      <td>3</td>\n",
       "    </tr>\n",
       "    <tr>\n",
       "      <th>3</th>\n",
       "      <td>0.462676</td>\n",
       "      <td>627</td>\n",
       "      <td>0</td>\n",
       "      <td>0</td>\n",
       "      <td>0</td>\n",
       "      <td>0</td>\n",
       "      <td>1</td>\n",
       "      <td>0</td>\n",
       "      <td>4</td>\n",
       "    </tr>\n",
       "    <tr>\n",
       "      <th>4</th>\n",
       "      <td>0.523725</td>\n",
       "      <td>752</td>\n",
       "      <td>0</td>\n",
       "      <td>0</td>\n",
       "      <td>0</td>\n",
       "      <td>0</td>\n",
       "      <td>1</td>\n",
       "      <td>0</td>\n",
       "      <td>5</td>\n",
       "    </tr>\n",
       "  </tbody>\n",
       "</table>\n",
       "</div>"
      ],
      "text/plain": [
       "        风险值  销售额  地区名_宜兴市  地区名_新吴区  地区名_梁溪区  地区名_江阴市  地区名_滨湖区  地区名_锡山区  month\n",
       "0  0.147242  313        0        0        0        0        1        0      1\n",
       "1  0.187812  376        0        0        0        0        1        0      2\n",
       "2  0.313739  501        0        0        0        0        1        0      3\n",
       "3  0.462676  627        0        0        0        0        1        0      4\n",
       "4  0.523725  752        0        0        0        0        1        0      5"
      ]
     },
     "execution_count": 7,
     "metadata": {},
     "output_type": "execute_result"
    }
   ],
   "source": [
    "data_del=data_del.drop('开始时间',axis=1)\n",
    "data_del.head()"
   ]
  },
  {
   "cell_type": "markdown",
   "id": "db1fa5d2",
   "metadata": {},
   "source": [
    "#### sklearn 预测"
   ]
  },
  {
   "cell_type": "code",
   "execution_count": 8,
   "id": "a57fc074",
   "metadata": {},
   "outputs": [],
   "source": [
    "from sklearn.neighbors import KNeighborsRegressor\n",
    "from sklearn.model_selection import train_test_split\n",
    "from sklearn.preprocessing import StandardScaler\n",
    "# from xgboost import XGBClassifier \n",
    "from sklearn.ensemble import RandomForestRegressor\n",
    "\n"
   ]
  },
  {
   "cell_type": "code",
   "execution_count": 10,
   "id": "d55e7a87",
   "metadata": {},
   "outputs": [],
   "source": [
    "y=data_del['销售额']\n",
    "\n",
    "x=data_del.drop('销售额',axis=1)\n",
    "\n"
   ]
  },
  {
   "cell_type": "markdown",
   "id": "0cd4973f",
   "metadata": {},
   "source": [
    "### 1. 随机深林 (score=83.6%,n_estimators=100)"
   ]
  },
  {
   "cell_type": "code",
   "execution_count": 25,
   "id": "b935cf35",
   "metadata": {},
   "outputs": [],
   "source": [
    "X_train, X_test, y_train, y_test = train_test_split(x, y, test_size=0.2)"
   ]
  },
  {
   "cell_type": "markdown",
   "id": "4315e5f4",
   "metadata": {},
   "source": [
    "不同参数结果\n",
    "\n",
    "    score          n_estimators\n",
    "    \n",
    "0.7680222001122863 1\n",
    "\n",
    "0.8308109412227868 10\n",
    "\n",
    "0.835274281001485 100\n",
    "\n",
    "0.8366202323912915 1000\n",
    "\n",
    "### 结论 最佳参数100"
   ]
  },
  {
   "cell_type": "code",
   "execution_count": 26,
   "id": "19768855",
   "metadata": {},
   "outputs": [
    {
     "name": "stdout",
     "output_type": "stream",
     "text": [
      "0.8361325140380509 100\n",
      "0.8361919165080738 200\n",
      "0.837251716837464 300\n"
     ]
    }
   ],
   "source": [
    "for i in [0.1,1,10,100,1000]:\n",
    "    rgs_model = RandomForestRegressor(n_estimators=i)  ##随机森林模型\n",
    "    rgs_model = rgs_model.fit(X_train, y_train)\n",
    "    score=rgs_model.score(X_test,y_test)\n",
    "    print(score,i)"
   ]
  },
  {
   "cell_type": "markdown",
   "id": "5cedddc5",
   "metadata": {},
   "source": [
    "### 2. KNN(score=88.2%,n_neighbors=14)"
   ]
  },
  {
   "cell_type": "code",
   "execution_count": 27,
   "id": "98823a25",
   "metadata": {},
   "outputs": [
    {
     "name": "stdout",
     "output_type": "stream",
     "text": [
      "0.768191550585448 1\n",
      "0.8280784015862065 2\n",
      "0.8494303986778422 3\n",
      "0.8579214553517528 4\n",
      "0.863635308872755 5\n",
      "0.866919350264251 6\n",
      "0.8710142594226077 7\n",
      "0.8724439393599112 8\n",
      "0.8735370091682908 9\n",
      "0.8744477430327371 10\n",
      "0.8760696834252879 11\n",
      "0.8767593330841652 12\n",
      "0.877738599490365 13\n",
      "0.8779711217845223 14\n",
      "0.8782086123788285 15\n",
      "0.8783878118123347 16\n",
      "0.8788880217025855 17\n",
      "0.8792908850805572 18\n",
      "0.8793764553234711 19\n",
      "0.8797348783823326 20\n",
      "0.8799227193403324 21\n",
      "0.8802392671105502 22\n",
      "0.8800774965398545 23\n",
      "0.8800710553477319 24\n",
      "0.8801665377240305 25\n",
      "0.8801759539882903 26\n",
      "0.8803104408767148 27\n",
      "0.8801852338612004 28\n",
      "0.8805096172474947 29\n"
     ]
    }
   ],
   "source": [
    "X_train, X_test, y_train, y_test = train_test_split(x, y, test_size=0.2)\n",
    "standarScaler = StandardScaler()\n",
    "standarScaler.fit(X_train)\n",
    "X_train_std = standarScaler.transform(X_train)\n",
    "X_test_std = standarScaler.transform(X_test)\n",
    "for i in range(1,30):\n",
    "    knn_clf = KNeighborsRegressor(n_neighbors=i)\n",
    "    knn_clf.fit(X_train_std,y_train)\n",
    "    score = knn_clf.score(X_test_std, y_test)\n",
    "    knn_clf.predict(X_test_std[:1])\n",
    "    print(score,i)"
   ]
  },
  {
   "cell_type": "code",
   "execution_count": 13,
   "id": "136fa2f9",
   "metadata": {},
   "outputs": [
    {
     "name": "stdout",
     "output_type": "stream",
     "text": [
      "0.8788317801564748\n",
      "[1927.57142857  506.42857143  393.14285714  693.85714286 1215.\n",
      " 1669.21428571  535.78571429  669.07142857  463.78571429  256.57142857]\n"
     ]
    }
   ],
   "source": [
    "X_train, X_test, y_train, y_test = train_test_split(x, y, test_size=0.2)\n",
    "standarScaler = StandardScaler()\n",
    "standarScaler.fit(X_train)\n",
    "X_train_std = standarScaler.transform(X_train)\n",
    "X_test_std = standarScaler.transform(X_test)\n",
    "knn_clf = KNeighborsRegressor(n_neighbors=14)\n",
    "knn_clf.fit(X_train_std,y_train)\n",
    "score = knn_clf.score(X_test_std, y_test)\n",
    "r=knn_clf.predict(X_test_std[:10])\n",
    "print(score)\n",
    "print(r)"
   ]
  },
  {
   "cell_type": "code",
   "execution_count": 14,
   "id": "e3f5baba",
   "metadata": {},
   "outputs": [
    {
     "name": "stdout",
     "output_type": "stream",
     "text": [
      "64505    2080\n",
      "31958     394\n",
      "19445     360\n",
      "19929     784\n",
      "40047    1328\n",
      "35535    2358\n",
      "64135     435\n",
      "10634     706\n",
      "62800     325\n",
      "33761     182\n",
      "Name: 销售额, dtype: int32\n"
     ]
    }
   ],
   "source": [
    "print(y_test[:10])"
   ]
  },
  {
   "cell_type": "markdown",
   "id": "de7f8237",
   "metadata": {},
   "source": [
    "### 3. 线性回归(score=51.9%)  多项式回归（score=86.3,degree=4）"
   ]
  },
  {
   "cell_type": "code",
   "execution_count": 29,
   "id": "82eb2a72",
   "metadata": {},
   "outputs": [],
   "source": [
    "from sklearn.linear_model import LinearRegression"
   ]
  },
  {
   "cell_type": "code",
   "execution_count": 30,
   "id": "c554ae7d",
   "metadata": {},
   "outputs": [
    {
     "data": {
      "text/plain": [
       "0.762943601983751"
      ]
     },
     "execution_count": 30,
     "metadata": {},
     "output_type": "execute_result"
    }
   ],
   "source": [
    "X_train, X_test, y_train, y_test = train_test_split(x, y, test_size=0.2)\n",
    "lr_model = LinearRegression()\n",
    "lr_model.fit(X_train, y_train)\n",
    "lr_model.score(X_test, y_test)"
   ]
  },
  {
   "cell_type": "code",
   "execution_count": 31,
   "id": "ff573ba6",
   "metadata": {},
   "outputs": [],
   "source": [
    "from sklearn.preprocessing import PolynomialFeatures\n",
    "\n"
   ]
  },
  {
   "cell_type": "code",
   "execution_count": 32,
   "id": "fff8a77f",
   "metadata": {},
   "outputs": [
    {
     "data": {
      "text/plain": [
       "(56754, 8)"
      ]
     },
     "execution_count": 32,
     "metadata": {},
     "output_type": "execute_result"
    }
   ],
   "source": [
    "X_train, X_test, y_train, y_test = train_test_split(x, y, test_size=0.2)\n",
    "X_train.shape"
   ]
  },
  {
   "cell_type": "code",
   "execution_count": 33,
   "id": "08a397cf",
   "metadata": {},
   "outputs": [
    {
     "name": "stdout",
     "output_type": "stream",
     "text": [
      "0.8576458898832867\n"
     ]
    }
   ],
   "source": [
    "poly_features_2=PolynomialFeatures(degree=4,include_bias=False)\n",
    "\n",
    "# 构建训练数据的特征矩阵\n",
    "poly_train_2=poly_features_2.fit_transform(np.array(X_train).reshape(len(X_train),8))\n",
    "\n",
    "# 构建测试数据的特征矩阵\n",
    "poly_test_2=poly_features_2.fit_transform(np.array(X_test).reshape(len(X_test),8))\n",
    "\n",
    "model_2=LinearRegression()\n",
    "\n",
    "model_2.fit(poly_train_2,np.array(y_train).reshape(len(y_train),1))\n",
    "score=model_2.score(poly_test_2,np.array(y_test).reshape(len(y_test),1))\n",
    "\n",
    "print(score)"
   ]
  },
  {
   "cell_type": "markdown",
   "id": "4f87e649",
   "metadata": {},
   "source": [
    "### 4. SVM (适合分类)"
   ]
  },
  {
   "cell_type": "code",
   "execution_count": 10,
   "id": "530b7565",
   "metadata": {},
   "outputs": [],
   "source": [
    "from sklearn.svm import LinearSVC,SVC\n",
    "X_train, X_test, y_train, y_test = train_test_split(x, y, test_size=0.2)\n",
    "svc_model=SVC(C=1,kernel='linear')\n",
    "svc_model.fit(X_train,y_train)\n",
    "score = svc_model.score(X_test, y_test)\n",
    "print(score)"
   ]
  }
 ],
 "metadata": {
  "kernelspec": {
   "display_name": "Python 3",
   "language": "python",
   "name": "python3"
  },
  "language_info": {
   "codemirror_mode": {
    "name": "ipython",
    "version": 3
   },
   "file_extension": ".py",
   "mimetype": "text/x-python",
   "name": "python",
   "nbconvert_exporter": "python",
   "pygments_lexer": "ipython3",
   "version": "3.9.2"
  }
 },
 "nbformat": 4,
 "nbformat_minor": 5
}
