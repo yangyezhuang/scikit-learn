{
 "cells": [
  {
   "cell_type": "code",
   "execution_count": 1,
   "id": "1599a6e2",
   "metadata": {},
   "outputs": [],
   "source": [
    "import pandas as pd\n",
    "import numpy as np\n",
    "import matplotlib.pyplot as plt\n",
    "from sklearn.decomposition import PCA\n",
    "from sklearn.ensemble import RandomForestRegressor\n",
    "from sklearn.model_selection import train_test_split\n",
    "from sklearn.preprocessing import LabelEncoder,OneHotEncoder,StandardScaler\n",
    "from sklearn.neighbors import KNeighborsRegressor,KNeighborsClassifier\n"
   ]
  },
  {
   "cell_type": "code",
   "execution_count": 2,
   "id": "2d19a667",
   "metadata": {},
   "outputs": [
    {
     "output_type": "execute_result",
     "data": {
      "text/plain": [
       "   0     1   2   3    4     5      6   7  8\n",
       "0  6   148  72  35    0  33.6  0.627  50  1\n",
       "1  1    85  66  29    0  26.6  0.351  31  0\n",
       "2  8  None  64   0    0  23.3  0.672  32  1\n",
       "3  1    89  66  23   94  28.1  0.167  21  0\n",
       "4  0  None  40  35  168  43.1  2.288  33  1"
      ],
      "text/html": "<div>\n<style scoped>\n    .dataframe tbody tr th:only-of-type {\n        vertical-align: middle;\n    }\n\n    .dataframe tbody tr th {\n        vertical-align: top;\n    }\n\n    .dataframe thead th {\n        text-align: right;\n    }\n</style>\n<table border=\"1\" class=\"dataframe\">\n  <thead>\n    <tr style=\"text-align: right;\">\n      <th></th>\n      <th>0</th>\n      <th>1</th>\n      <th>2</th>\n      <th>3</th>\n      <th>4</th>\n      <th>5</th>\n      <th>6</th>\n      <th>7</th>\n      <th>8</th>\n    </tr>\n  </thead>\n  <tbody>\n    <tr>\n      <th>0</th>\n      <td>6</td>\n      <td>148</td>\n      <td>72</td>\n      <td>35</td>\n      <td>0</td>\n      <td>33.6</td>\n      <td>0.627</td>\n      <td>50</td>\n      <td>1</td>\n    </tr>\n    <tr>\n      <th>1</th>\n      <td>1</td>\n      <td>85</td>\n      <td>66</td>\n      <td>29</td>\n      <td>0</td>\n      <td>26.6</td>\n      <td>0.351</td>\n      <td>31</td>\n      <td>0</td>\n    </tr>\n    <tr>\n      <th>2</th>\n      <td>8</td>\n      <td>None</td>\n      <td>64</td>\n      <td>0</td>\n      <td>0</td>\n      <td>23.3</td>\n      <td>0.672</td>\n      <td>32</td>\n      <td>1</td>\n    </tr>\n    <tr>\n      <th>3</th>\n      <td>1</td>\n      <td>89</td>\n      <td>66</td>\n      <td>23</td>\n      <td>94</td>\n      <td>28.1</td>\n      <td>0.167</td>\n      <td>21</td>\n      <td>0</td>\n    </tr>\n    <tr>\n      <th>4</th>\n      <td>0</td>\n      <td>None</td>\n      <td>40</td>\n      <td>35</td>\n      <td>168</td>\n      <td>43.1</td>\n      <td>2.288</td>\n      <td>33</td>\n      <td>1</td>\n    </tr>\n  </tbody>\n</table>\n</div>"
     },
     "metadata": {},
     "execution_count": 2
    }
   ],
   "source": [
    "data=pd.read_csv('./pima.data',header=None)\n",
    "data.head()"
   ]
  },
  {
   "cell_type": "code",
   "execution_count": 3,
   "id": "fde46a96",
   "metadata": {},
   "outputs": [
    {
     "output_type": "stream",
     "name": "stdout",
     "text": [
      "<class 'pandas.core.frame.DataFrame'>\nInt64Index: 763 entries, 0 to 767\nData columns (total 9 columns):\n #   Column  Non-Null Count  Dtype  \n---  ------  --------------  -----  \n 0   0       763 non-null    int64  \n 1   1       763 non-null    object \n 2   2       763 non-null    int64  \n 3   3       763 non-null    int64  \n 4   4       763 non-null    int64  \n 5   5       763 non-null    float64\n 6   6       763 non-null    float64\n 7   7       763 non-null    int64  \n 8   8       763 non-null    int64  \ndtypes: float64(2), int64(6), object(1)\nmemory usage: 59.6+ KB\n"
     ]
    }
   ],
   "source": [
    "data[1]=data[1].map(lambda x:np.nan if str(x)=='None' else x)\n",
    "data.dropna(subset=[1],inplace=True)\n",
    "data.info()"
   ]
  },
  {
   "cell_type": "code",
   "execution_count": 4,
   "id": "b19470b9",
   "metadata": {},
   "outputs": [
    {
     "output_type": "stream",
     "name": "stdout",
     "text": [
      "<class 'pandas.core.frame.DataFrame'>\nInt64Index: 763 entries, 0 to 767\nData columns (total 9 columns):\n #   Column  Non-Null Count  Dtype  \n---  ------  --------------  -----  \n 0   0       763 non-null    int64  \n 1   1       763 non-null    int64  \n 2   2       763 non-null    int64  \n 3   3       763 non-null    int64  \n 4   4       763 non-null    int64  \n 5   5       763 non-null    float64\n 6   6       763 non-null    float64\n 7   7       763 non-null    int64  \n 8   8       763 non-null    int64  \ndtypes: float64(2), int64(7)\nmemory usage: 59.6 KB\n"
     ]
    }
   ],
   "source": [
    "data[1]=data[1].astype(np.int64)\n",
    "data.info()"
   ]
  },
  {
   "cell_type": "code",
   "execution_count": 16,
   "id": "60b2ac77",
   "metadata": {},
   "outputs": [
    {
     "output_type": "execute_result",
     "data": {
      "text/plain": [
       "723"
      ]
     },
     "metadata": {},
     "execution_count": 16
    }
   ],
   "source": [
    "data.describe()\n",
    "cnt=data.shape[1]-1\n",
    "for i in range(cnt):\n",
    "    plt.subplot(2,4,i+1)\n",
    "    plt.boxplot(data[i])\n",
    "    plt.title(str(i))\n",
    "plt.show()\n",
    "    "
   ]
  },
  {
   "cell_type": "code",
   "execution_count": 6,
   "id": "8e2695a6",
   "metadata": {},
   "outputs": [
    {
     "output_type": "execute_result",
     "data": {
      "text/plain": [
       "(763, 9)"
      ]
     },
     "metadata": {},
     "execution_count": 6
    }
   ],
   "source": [
    "data.shape"
   ]
  },
  {
   "cell_type": "code",
   "execution_count": 7,
   "id": "36ad7599",
   "metadata": {},
   "outputs": [
    {
     "output_type": "execute_result",
     "data": {
      "text/plain": [
       "(723, 9)"
      ]
     },
     "metadata": {},
     "execution_count": 7
    }
   ],
   "source": [
    "data=data[(data[3]<80) & (data[2]>0) & (data[5]>0)]\n",
    "\n",
    "data.shape"
   ]
  },
  {
   "cell_type": "code",
   "execution_count": 8,
   "id": "5d841d83",
   "metadata": {},
   "outputs": [
    {
     "output_type": "execute_result",
     "data": {
      "text/plain": [
       "3    0.082949\n",
       "4    0.139693\n",
       "2    0.181940\n",
       "6    0.186842\n",
       "0    0.234530\n",
       "7    0.248610\n",
       "5    0.305765\n",
       "1    0.457313\n",
       "8    1.000000\n",
       "Name: 8, dtype: float64"
      ]
     },
     "metadata": {},
     "execution_count": 8
    }
   ],
   "source": [
    "data.corr()[8].abs().sort_values()\n"
   ]
  },
  {
   "cell_type": "code",
   "execution_count": 9,
   "id": "73d01edd",
   "metadata": {},
   "outputs": [
    {
     "output_type": "execute_result",
     "data": {
      "text/plain": [
       "(723,)"
      ]
     },
     "metadata": {},
     "execution_count": 9
    }
   ],
   "source": [
    "y=data[8]\n",
    "x=data.drop(8,axis=1)\n",
    "pca=PCA(n_components=7)\n",
    "x.shape\n",
    "y.shape"
   ]
  },
  {
   "cell_type": "markdown",
   "id": "edd627b8",
   "metadata": {},
   "source": [
    "### 统计空准确率"
   ]
  },
  {
   "cell_type": "code",
   "execution_count": 10,
   "id": "f229cf87",
   "metadata": {},
   "outputs": [
    {
     "output_type": "execute_result",
     "data": {
      "text/plain": [
       "0    0.659751\n",
       "1    0.340249\n",
       "Name: 8, dtype: float64"
      ]
     },
     "metadata": {},
     "execution_count": 10
    }
   ],
   "source": [
    "y.value_counts(normalize=True)"
   ]
  },
  {
   "cell_type": "code",
   "execution_count": 11,
   "id": "1e11a7b7",
   "metadata": {},
   "outputs": [
    {
     "output_type": "execute_result",
     "data": {
      "text/plain": [
       "(723, 7)"
      ]
     },
     "metadata": {},
     "execution_count": 11
    }
   ],
   "source": [
    "x_pca=pca.fit_transform(x)\n",
    "x_pca.shape"
   ]
  },
  {
   "cell_type": "code",
   "execution_count": 12,
   "id": "b0516bab",
   "metadata": {},
   "outputs": [],
   "source": [
    "X_train, X_test, y_train, y_test = train_test_split(x_pca, y, test_size=0.2)\n",
    "X_train.shape\n",
    "std=StandardScaler()\n",
    "std_tf=std.fit(X_train)\n",
    "X_train_std=std_tf.transform(X_train)\n",
    "X_test_std=std_tf.transform(X_test)"
   ]
  },
  {
   "cell_type": "code",
   "execution_count": 17,
   "id": "6e0d855b",
   "metadata": {},
   "outputs": [
    {
     "output_type": "stream",
     "name": "stdout",
     "text": [
      "0.6689655172413793 2\n0.7172413793103448 3\n0.7172413793103448 4\n0.7448275862068966 5\n0.7655172413793103 6\n0.7793103448275862 7\n0.7724137931034483 8\n0.7586206896551724 9\n0.7655172413793103 10\n0.7655172413793103 11\n0.7586206896551724 12\n0.7655172413793103 13\n0.7517241379310344 14\n0.7655172413793103 15\n0.7586206896551724 16\n0.7655172413793103 17\n0.7586206896551724 18\n0.7724137931034483 19\n"
     ]
    }
   ],
   "source": [
    "for i in range(2,20):\n",
    "    knn_model=KNeighborsClassifier(n_neighbors=i)\n",
    "    knn_model.fit(X_train_std,y_train)\n",
    "    score=knn_model.score(X_test_std,y_test)\n",
    "    print(score,i)"
   ]
  },
  {
   "cell_type": "markdown",
   "id": "c6492de9",
   "metadata": {},
   "source": [
    "### svm"
   ]
  },
  {
   "cell_type": "code",
   "execution_count": 14,
   "id": "8da4c50e",
   "metadata": {},
   "outputs": [
    {
     "output_type": "stream",
     "name": "stdout",
     "text": [
      "0.7724137931034483 1 linear\n",
      "0.7586206896551724 1 poly\n",
      "0.7862068965517242 1 rbf\n",
      "0.7724137931034483 10 linear\n",
      "0.7724137931034483 10 poly\n",
      "0.7586206896551724 10 rbf\n"
     ]
    }
   ],
   "source": [
    "from sklearn.svm import SVC\n",
    "X_train, X_test, y_train, y_test = train_test_split(x_pca, y, test_size=0.2)\n",
    "X_train.shape\n",
    "std=StandardScaler()\n",
    "std_tf=std.fit(X_train)\n",
    "X_train_std=std_tf.transform(X_train)\n",
    "X_test_std=std_tf.transform(X_test)\n",
    "\n",
    "for i  in [1,10]:\n",
    "    for k in ['linear','poly','rbf']:\n",
    "        svc_model=SVC(C=i,kernel=k)\n",
    "        svc_model.fit(X_train,y_train)\n",
    "        score = svc_model.score(X_test, y_test)\n",
    "        print(score,i,k)\n",
    "\n"
   ]
  },
  {
   "cell_type": "code",
   "execution_count": null,
   "id": "d953abb1",
   "metadata": {},
   "outputs": [],
   "source": []
  }
 ],
 "metadata": {
  "kernelspec": {
   "name": "python388jvsc74a57bd095ab7303ed2746327945aa376054eddca8c4eca362915ff95db932dbe7e7ee41",
   "display_name": "Python 3.8.8 64-bit"
  },
  "language_info": {
   "codemirror_mode": {
    "name": "ipython",
    "version": 3
   },
   "file_extension": ".py",
   "mimetype": "text/x-python",
   "name": "python",
   "nbconvert_exporter": "python",
   "pygments_lexer": "ipython3",
   "version": "3.8.8"
  }
 },
 "nbformat": 4,
 "nbformat_minor": 5
}