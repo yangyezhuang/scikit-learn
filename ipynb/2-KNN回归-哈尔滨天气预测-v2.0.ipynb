{
 "cells": [
  {
   "cell_type": "code",
   "execution_count": 3,
   "metadata": {},
   "outputs": [],
   "source": [
    "import pandas as pd\n",
    "import matplotlib\n",
    "import matplotlib.pyplot as plt\n",
    "import numpy as np\n",
    "import seaborn as sns\n",
    "from sklearn.neighbors import KNeighborsRegressor\n",
    "from sklearn.model_selection import train_test_split\n",
    "from sklearn import preprocessing\n",
    "from sklearn.preprocessing import StandardScaler"
   ]
  },
  {
   "cell_type": "code",
   "execution_count": 4,
   "metadata": {},
   "outputs": [],
   "source": [
    "origin=pd.read_csv('./data/harbin_2019_aqi.csv')"
   ]
  },
  {
   "cell_type": "code",
   "execution_count": 5,
   "metadata": {},
   "outputs": [],
   "source": [
    "# origin.head()"
   ]
  },
  {
   "cell_type": "code",
   "execution_count": 6,
   "metadata": {},
   "outputs": [
    {
     "data": {
      "text/plain": [
       "ymd          0\n",
       "bWendu       0\n",
       "yWendu       0\n",
       "tianqi       0\n",
       "fengxiang    0\n",
       "fengli       0\n",
       "aqi          0\n",
       "aqiInfo      0\n",
       "aqiLevel     0\n",
       "dtype: int64"
      ]
     },
     "execution_count": 6,
     "metadata": {},
     "output_type": "execute_result"
    }
   ],
   "source": [
    "origin.isnull().sum()"
   ]
  },
  {
   "cell_type": "markdown",
   "metadata": {},
   "source": [
    "#### 1. feature_engineering"
   ]
  },
  {
   "cell_type": "code",
   "execution_count": 7,
   "metadata": {},
   "outputs": [],
   "source": [
    "# 把温度 风力 aqi转化为浮点数\n",
    "origin['max_temp']=origin['bWendu'].map(lambda x:float(x[:-1]))\n",
    "origin['min_temp']=origin['yWendu'].map(lambda x:float(x[:-1]))\n",
    "origin['wind_power']=origin['fengli'].map(lambda x:float(x[:1]))\n",
    "origin['aqi']=origin['aqi'].astype('float32')"
   ]
  },
  {
   "cell_type": "code",
   "execution_count": 8,
   "metadata": {},
   "outputs": [],
   "source": [
    "# 删除原有的数据列\n",
    "origin.drop(['bWendu','yWendu','fengli','ymd'],axis=1,inplace=True)\n",
    "# origin.drop(['ymd'],axis=1,inplace=True)"
   ]
  },
  {
   "cell_type": "code",
   "execution_count": 9,
   "metadata": {},
   "outputs": [
    {
     "data": {
      "text/html": [
       "<div>\n",
       "<style scoped>\n",
       "    .dataframe tbody tr th:only-of-type {\n",
       "        vertical-align: middle;\n",
       "    }\n",
       "\n",
       "    .dataframe tbody tr th {\n",
       "        vertical-align: top;\n",
       "    }\n",
       "\n",
       "    .dataframe thead th {\n",
       "        text-align: right;\n",
       "    }\n",
       "</style>\n",
       "<table border=\"1\" class=\"dataframe\">\n",
       "  <thead>\n",
       "    <tr style=\"text-align: right;\">\n",
       "      <th></th>\n",
       "      <th>aqiInfo</th>\n",
       "      <th>aqiLevel</th>\n",
       "    </tr>\n",
       "  </thead>\n",
       "  <tbody>\n",
       "    <tr>\n",
       "      <th>0</th>\n",
       "      <td>良</td>\n",
       "      <td>2</td>\n",
       "    </tr>\n",
       "    <tr>\n",
       "      <th>2</th>\n",
       "      <td>轻度污染</td>\n",
       "      <td>3</td>\n",
       "    </tr>\n",
       "    <tr>\n",
       "      <th>6</th>\n",
       "      <td>中度污染</td>\n",
       "      <td>4</td>\n",
       "    </tr>\n",
       "    <tr>\n",
       "      <th>12</th>\n",
       "      <td>重度污染</td>\n",
       "      <td>5</td>\n",
       "    </tr>\n",
       "    <tr>\n",
       "      <th>15</th>\n",
       "      <td>优</td>\n",
       "      <td>1</td>\n",
       "    </tr>\n",
       "    <tr>\n",
       "      <th>57</th>\n",
       "      <td>严重污染</td>\n",
       "      <td>6</td>\n",
       "    </tr>\n",
       "  </tbody>\n",
       "</table>\n",
       "</div>"
      ],
      "text/plain": [
       "   aqiInfo  aqiLevel\n",
       "0        良         2\n",
       "2     轻度污染         3\n",
       "6     中度污染         4\n",
       "12    重度污染         5\n",
       "15       优         1\n",
       "57    严重污染         6"
      ]
     },
     "execution_count": 9,
     "metadata": {},
     "output_type": "execute_result"
    }
   ],
   "source": [
    "# 统计有多少种aqiLevel\n",
    "origin[['aqiInfo','aqiLevel']].drop_duplicates(['aqiInfo'])"
   ]
  },
  {
   "cell_type": "code",
   "execution_count": 10,
   "metadata": {},
   "outputs": [],
   "source": [
    "origin.drop(['aqiInfo'],axis=1,inplace=True)"
   ]
  },
  {
   "cell_type": "code",
   "execution_count": 11,
   "metadata": {},
   "outputs": [],
   "source": [
    "origin['aqiLevel']=origin['aqiLevel'].astype('float32')"
   ]
  },
  {
   "cell_type": "markdown",
   "metadata": {},
   "source": [
    "### 定类等级编码"
   ]
  },
  {
   "cell_type": "code",
   "execution_count": 12,
   "metadata": {},
   "outputs": [
    {
     "data": {
      "text/html": [
       "<div>\n",
       "<style scoped>\n",
       "    .dataframe tbody tr th:only-of-type {\n",
       "        vertical-align: middle;\n",
       "    }\n",
       "\n",
       "    .dataframe tbody tr th {\n",
       "        vertical-align: top;\n",
       "    }\n",
       "\n",
       "    .dataframe thead th {\n",
       "        text-align: right;\n",
       "    }\n",
       "</style>\n",
       "<table border=\"1\" class=\"dataframe\">\n",
       "  <thead>\n",
       "    <tr style=\"text-align: right;\">\n",
       "      <th></th>\n",
       "      <th>tianqi</th>\n",
       "      <th>fengxiang</th>\n",
       "      <th>aqi</th>\n",
       "      <th>aqiLevel</th>\n",
       "      <th>max_temp</th>\n",
       "      <th>min_temp</th>\n",
       "      <th>wind_power</th>\n",
       "    </tr>\n",
       "  </thead>\n",
       "  <tbody>\n",
       "    <tr>\n",
       "      <th>0</th>\n",
       "      <td>多云</td>\n",
       "      <td>西南风</td>\n",
       "      <td>63.0</td>\n",
       "      <td>2.0</td>\n",
       "      <td>-12.0</td>\n",
       "      <td>-21.0</td>\n",
       "      <td>3.0</td>\n",
       "    </tr>\n",
       "    <tr>\n",
       "      <th>1</th>\n",
       "      <td>晴</td>\n",
       "      <td>西南风</td>\n",
       "      <td>73.0</td>\n",
       "      <td>2.0</td>\n",
       "      <td>-10.0</td>\n",
       "      <td>-19.0</td>\n",
       "      <td>2.0</td>\n",
       "    </tr>\n",
       "    <tr>\n",
       "      <th>2</th>\n",
       "      <td>多云~小雪</td>\n",
       "      <td>西南风</td>\n",
       "      <td>126.0</td>\n",
       "      <td>3.0</td>\n",
       "      <td>-10.0</td>\n",
       "      <td>-21.0</td>\n",
       "      <td>3.0</td>\n",
       "    </tr>\n",
       "    <tr>\n",
       "      <th>3</th>\n",
       "      <td>多云</td>\n",
       "      <td>西南风</td>\n",
       "      <td>58.0</td>\n",
       "      <td>2.0</td>\n",
       "      <td>-9.0</td>\n",
       "      <td>-21.0</td>\n",
       "      <td>3.0</td>\n",
       "    </tr>\n",
       "    <tr>\n",
       "      <th>4</th>\n",
       "      <td>晴</td>\n",
       "      <td>西北风</td>\n",
       "      <td>55.0</td>\n",
       "      <td>2.0</td>\n",
       "      <td>-10.0</td>\n",
       "      <td>-19.0</td>\n",
       "      <td>2.0</td>\n",
       "    </tr>\n",
       "  </tbody>\n",
       "</table>\n",
       "</div>"
      ],
      "text/plain": [
       "  tianqi fengxiang    aqi  aqiLevel  max_temp  min_temp  wind_power\n",
       "0     多云       西南风   63.0       2.0     -12.0     -21.0         3.0\n",
       "1      晴       西南风   73.0       2.0     -10.0     -19.0         2.0\n",
       "2  多云~小雪       西南风  126.0       3.0     -10.0     -21.0         3.0\n",
       "3     多云       西南风   58.0       2.0      -9.0     -21.0         3.0\n",
       "4      晴       西北风   55.0       2.0     -10.0     -19.0         2.0"
      ]
     },
     "execution_count": 12,
     "metadata": {},
     "output_type": "execute_result"
    }
   ],
   "source": [
    "origin.head()"
   ]
  },
  {
   "cell_type": "code",
   "execution_count": 13,
   "metadata": {},
   "outputs": [],
   "source": [
    "data_digited=pd.get_dummies(origin,columns=['tianqi','fengxiang'],prefix_sep=\"_\")"
   ]
  },
  {
   "cell_type": "code",
   "execution_count": 14,
   "metadata": {},
   "outputs": [],
   "source": [
    "# data_digited.head()"
   ]
  },
  {
   "cell_type": "code",
   "execution_count": 15,
   "metadata": {},
   "outputs": [],
   "source": [
    "# data_digited.describe()"
   ]
  },
  {
   "cell_type": "markdown",
   "metadata": {},
   "source": [
    "### 因为污染物浓度和污染指数有直接的关系，所以把该列去除"
   ]
  },
  {
   "cell_type": "code",
   "execution_count": 16,
   "metadata": {},
   "outputs": [],
   "source": [
    "corr=data_digited.corr()"
   ]
  },
  {
   "cell_type": "code",
   "execution_count": 17,
   "metadata": {},
   "outputs": [],
   "source": [
    "# corr"
   ]
  },
  {
   "cell_type": "code",
   "execution_count": 18,
   "metadata": {},
   "outputs": [],
   "source": [
    "data_digited.drop(['aqi'],axis=1,inplace=True)"
   ]
  },
  {
   "cell_type": "code",
   "execution_count": 19,
   "metadata": {},
   "outputs": [
    {
     "data": {
      "text/html": [
       "<div>\n",
       "<style scoped>\n",
       "    .dataframe tbody tr th:only-of-type {\n",
       "        vertical-align: middle;\n",
       "    }\n",
       "\n",
       "    .dataframe tbody tr th {\n",
       "        vertical-align: top;\n",
       "    }\n",
       "\n",
       "    .dataframe thead th {\n",
       "        text-align: right;\n",
       "    }\n",
       "</style>\n",
       "<table border=\"1\" class=\"dataframe\">\n",
       "  <thead>\n",
       "    <tr style=\"text-align: right;\">\n",
       "      <th></th>\n",
       "      <th>aqiLevel</th>\n",
       "      <th>max_temp</th>\n",
       "      <th>min_temp</th>\n",
       "      <th>wind_power</th>\n",
       "      <th>tianqi_中雨</th>\n",
       "      <th>tianqi_中雨~多云</th>\n",
       "      <th>tianqi_中雨~大雨</th>\n",
       "      <th>tianqi_中雨~小雨</th>\n",
       "      <th>tianqi_中雨~雷阵雨</th>\n",
       "      <th>tianqi_中雪~多云</th>\n",
       "      <th>...</th>\n",
       "      <th>tianqi_雷阵雨~阵雨</th>\n",
       "      <th>tianqi_雾~小雪</th>\n",
       "      <th>tianqi_霾~多云</th>\n",
       "      <th>fengxiang_东北风</th>\n",
       "      <th>fengxiang_东南风</th>\n",
       "      <th>fengxiang_东风</th>\n",
       "      <th>fengxiang_南风</th>\n",
       "      <th>fengxiang_西北风</th>\n",
       "      <th>fengxiang_西南风</th>\n",
       "      <th>fengxiang_西风</th>\n",
       "    </tr>\n",
       "  </thead>\n",
       "  <tbody>\n",
       "    <tr>\n",
       "      <th>0</th>\n",
       "      <td>2.0</td>\n",
       "      <td>-12.0</td>\n",
       "      <td>-21.0</td>\n",
       "      <td>3.0</td>\n",
       "      <td>0</td>\n",
       "      <td>0</td>\n",
       "      <td>0</td>\n",
       "      <td>0</td>\n",
       "      <td>0</td>\n",
       "      <td>0</td>\n",
       "      <td>...</td>\n",
       "      <td>0</td>\n",
       "      <td>0</td>\n",
       "      <td>0</td>\n",
       "      <td>0</td>\n",
       "      <td>0</td>\n",
       "      <td>0</td>\n",
       "      <td>0</td>\n",
       "      <td>0</td>\n",
       "      <td>1</td>\n",
       "      <td>0</td>\n",
       "    </tr>\n",
       "    <tr>\n",
       "      <th>1</th>\n",
       "      <td>2.0</td>\n",
       "      <td>-10.0</td>\n",
       "      <td>-19.0</td>\n",
       "      <td>2.0</td>\n",
       "      <td>0</td>\n",
       "      <td>0</td>\n",
       "      <td>0</td>\n",
       "      <td>0</td>\n",
       "      <td>0</td>\n",
       "      <td>0</td>\n",
       "      <td>...</td>\n",
       "      <td>0</td>\n",
       "      <td>0</td>\n",
       "      <td>0</td>\n",
       "      <td>0</td>\n",
       "      <td>0</td>\n",
       "      <td>0</td>\n",
       "      <td>0</td>\n",
       "      <td>0</td>\n",
       "      <td>1</td>\n",
       "      <td>0</td>\n",
       "    </tr>\n",
       "    <tr>\n",
       "      <th>2</th>\n",
       "      <td>3.0</td>\n",
       "      <td>-10.0</td>\n",
       "      <td>-21.0</td>\n",
       "      <td>3.0</td>\n",
       "      <td>0</td>\n",
       "      <td>0</td>\n",
       "      <td>0</td>\n",
       "      <td>0</td>\n",
       "      <td>0</td>\n",
       "      <td>0</td>\n",
       "      <td>...</td>\n",
       "      <td>0</td>\n",
       "      <td>0</td>\n",
       "      <td>0</td>\n",
       "      <td>0</td>\n",
       "      <td>0</td>\n",
       "      <td>0</td>\n",
       "      <td>0</td>\n",
       "      <td>0</td>\n",
       "      <td>1</td>\n",
       "      <td>0</td>\n",
       "    </tr>\n",
       "    <tr>\n",
       "      <th>3</th>\n",
       "      <td>2.0</td>\n",
       "      <td>-9.0</td>\n",
       "      <td>-21.0</td>\n",
       "      <td>3.0</td>\n",
       "      <td>0</td>\n",
       "      <td>0</td>\n",
       "      <td>0</td>\n",
       "      <td>0</td>\n",
       "      <td>0</td>\n",
       "      <td>0</td>\n",
       "      <td>...</td>\n",
       "      <td>0</td>\n",
       "      <td>0</td>\n",
       "      <td>0</td>\n",
       "      <td>0</td>\n",
       "      <td>0</td>\n",
       "      <td>0</td>\n",
       "      <td>0</td>\n",
       "      <td>0</td>\n",
       "      <td>1</td>\n",
       "      <td>0</td>\n",
       "    </tr>\n",
       "    <tr>\n",
       "      <th>4</th>\n",
       "      <td>2.0</td>\n",
       "      <td>-10.0</td>\n",
       "      <td>-19.0</td>\n",
       "      <td>2.0</td>\n",
       "      <td>0</td>\n",
       "      <td>0</td>\n",
       "      <td>0</td>\n",
       "      <td>0</td>\n",
       "      <td>0</td>\n",
       "      <td>0</td>\n",
       "      <td>...</td>\n",
       "      <td>0</td>\n",
       "      <td>0</td>\n",
       "      <td>0</td>\n",
       "      <td>0</td>\n",
       "      <td>0</td>\n",
       "      <td>0</td>\n",
       "      <td>0</td>\n",
       "      <td>1</td>\n",
       "      <td>0</td>\n",
       "      <td>0</td>\n",
       "    </tr>\n",
       "  </tbody>\n",
       "</table>\n",
       "<p>5 rows × 64 columns</p>\n",
       "</div>"
      ],
      "text/plain": [
       "   aqiLevel  max_temp  min_temp  wind_power  tianqi_中雨  tianqi_中雨~多云  \\\n",
       "0       2.0     -12.0     -21.0         3.0          0             0   \n",
       "1       2.0     -10.0     -19.0         2.0          0             0   \n",
       "2       3.0     -10.0     -21.0         3.0          0             0   \n",
       "3       2.0      -9.0     -21.0         3.0          0             0   \n",
       "4       2.0     -10.0     -19.0         2.0          0             0   \n",
       "\n",
       "   tianqi_中雨~大雨  tianqi_中雨~小雨  tianqi_中雨~雷阵雨  tianqi_中雪~多云  ...  \\\n",
       "0             0             0              0             0  ...   \n",
       "1             0             0              0             0  ...   \n",
       "2             0             0              0             0  ...   \n",
       "3             0             0              0             0  ...   \n",
       "4             0             0              0             0  ...   \n",
       "\n",
       "   tianqi_雷阵雨~阵雨  tianqi_雾~小雪  tianqi_霾~多云  fengxiang_东北风  fengxiang_东南风  \\\n",
       "0              0            0            0              0              0   \n",
       "1              0            0            0              0              0   \n",
       "2              0            0            0              0              0   \n",
       "3              0            0            0              0              0   \n",
       "4              0            0            0              0              0   \n",
       "\n",
       "   fengxiang_东风  fengxiang_南风  fengxiang_西北风  fengxiang_西南风  fengxiang_西风  \n",
       "0             0             0              0              1             0  \n",
       "1             0             0              0              1             0  \n",
       "2             0             0              0              1             0  \n",
       "3             0             0              0              1             0  \n",
       "4             0             0              1              0             0  \n",
       "\n",
       "[5 rows x 64 columns]"
      ]
     },
     "execution_count": 19,
     "metadata": {},
     "output_type": "execute_result"
    }
   ],
   "source": [
    "data_digited.head()"
   ]
  },
  {
   "cell_type": "code",
   "execution_count": 20,
   "metadata": {},
   "outputs": [],
   "source": [
    "\n",
    "standarScaler = StandardScaler()\n",
    "\n",
    "std_data = standarScaler.fit_transform(data_digited)\n",
    "std_data=pd.DataFrame(std_data,columns=data_digited.columns)\n"
   ]
  },
  {
   "cell_type": "code",
   "execution_count": 21,
   "metadata": {},
   "outputs": [
    {
     "data": {
      "text/html": [
       "<div>\n",
       "<style scoped>\n",
       "    .dataframe tbody tr th:only-of-type {\n",
       "        vertical-align: middle;\n",
       "    }\n",
       "\n",
       "    .dataframe tbody tr th {\n",
       "        vertical-align: top;\n",
       "    }\n",
       "\n",
       "    .dataframe thead th {\n",
       "        text-align: right;\n",
       "    }\n",
       "</style>\n",
       "<table border=\"1\" class=\"dataframe\">\n",
       "  <thead>\n",
       "    <tr style=\"text-align: right;\">\n",
       "      <th></th>\n",
       "      <th>aqiLevel</th>\n",
       "      <th>max_temp</th>\n",
       "      <th>min_temp</th>\n",
       "      <th>wind_power</th>\n",
       "      <th>tianqi_中雨</th>\n",
       "      <th>tianqi_中雨~多云</th>\n",
       "      <th>tianqi_中雨~大雨</th>\n",
       "      <th>tianqi_中雨~小雨</th>\n",
       "      <th>tianqi_中雨~雷阵雨</th>\n",
       "      <th>tianqi_中雪~多云</th>\n",
       "      <th>...</th>\n",
       "      <th>tianqi_雷阵雨~阵雨</th>\n",
       "      <th>tianqi_雾~小雪</th>\n",
       "      <th>tianqi_霾~多云</th>\n",
       "      <th>fengxiang_东北风</th>\n",
       "      <th>fengxiang_东南风</th>\n",
       "      <th>fengxiang_东风</th>\n",
       "      <th>fengxiang_南风</th>\n",
       "      <th>fengxiang_西北风</th>\n",
       "      <th>fengxiang_西南风</th>\n",
       "      <th>fengxiang_西风</th>\n",
       "    </tr>\n",
       "  </thead>\n",
       "  <tbody>\n",
       "    <tr>\n",
       "      <th>aqiLevel</th>\n",
       "      <td>1.000000</td>\n",
       "      <td>-0.391921</td>\n",
       "      <td>-0.446463</td>\n",
       "      <td>-0.039275</td>\n",
       "      <td>-0.039074</td>\n",
       "      <td>-0.039074</td>\n",
       "      <td>-0.039074</td>\n",
       "      <td>-0.067865</td>\n",
       "      <td>-0.055335</td>\n",
       "      <td>0.012044</td>\n",
       "      <td>...</td>\n",
       "      <td>-0.055335</td>\n",
       "      <td>0.063163</td>\n",
       "      <td>0.165400</td>\n",
       "      <td>-0.148100</td>\n",
       "      <td>-0.019240</td>\n",
       "      <td>-0.039074</td>\n",
       "      <td>0.114282</td>\n",
       "      <td>-0.062132</td>\n",
       "      <td>0.156216</td>\n",
       "      <td>0.012044</td>\n",
       "    </tr>\n",
       "    <tr>\n",
       "      <th>max_temp</th>\n",
       "      <td>-0.391921</td>\n",
       "      <td>1.000000</td>\n",
       "      <td>0.979039</td>\n",
       "      <td>0.082435</td>\n",
       "      <td>0.021057</td>\n",
       "      <td>0.036069</td>\n",
       "      <td>0.032316</td>\n",
       "      <td>0.071336</td>\n",
       "      <td>0.077653</td>\n",
       "      <td>-0.046495</td>\n",
       "      <td>...</td>\n",
       "      <td>0.082967</td>\n",
       "      <td>-0.084024</td>\n",
       "      <td>-0.065259</td>\n",
       "      <td>0.167500</td>\n",
       "      <td>0.173736</td>\n",
       "      <td>0.058586</td>\n",
       "      <td>-0.057753</td>\n",
       "      <td>-0.159260</td>\n",
       "      <td>-0.073897</td>\n",
       "      <td>-0.087776</td>\n",
       "    </tr>\n",
       "    <tr>\n",
       "      <th>min_temp</th>\n",
       "      <td>-0.446463</td>\n",
       "      <td>0.979039</td>\n",
       "      <td>1.000000</td>\n",
       "      <td>0.057815</td>\n",
       "      <td>0.029961</td>\n",
       "      <td>0.037259</td>\n",
       "      <td>0.033610</td>\n",
       "      <td>0.102737</td>\n",
       "      <td>0.091520</td>\n",
       "      <td>-0.046666</td>\n",
       "      <td>...</td>\n",
       "      <td>0.083769</td>\n",
       "      <td>-0.086804</td>\n",
       "      <td>-0.061261</td>\n",
       "      <td>0.204154</td>\n",
       "      <td>0.194881</td>\n",
       "      <td>0.062801</td>\n",
       "      <td>-0.064910</td>\n",
       "      <td>-0.164819</td>\n",
       "      <td>-0.107241</td>\n",
       "      <td>-0.083155</td>\n",
       "    </tr>\n",
       "    <tr>\n",
       "      <th>wind_power</th>\n",
       "      <td>-0.039275</td>\n",
       "      <td>0.082435</td>\n",
       "      <td>0.057815</td>\n",
       "      <td>1.000000</td>\n",
       "      <td>0.017125</td>\n",
       "      <td>0.017125</td>\n",
       "      <td>0.087356</td>\n",
       "      <td>-0.010917</td>\n",
       "      <td>0.024251</td>\n",
       "      <td>0.087356</td>\n",
       "      <td>...</td>\n",
       "      <td>-0.025478</td>\n",
       "      <td>0.017125</td>\n",
       "      <td>-0.053106</td>\n",
       "      <td>-0.142512</td>\n",
       "      <td>-0.205154</td>\n",
       "      <td>-0.053106</td>\n",
       "      <td>-0.053106</td>\n",
       "      <td>0.059849</td>\n",
       "      <td>0.187820</td>\n",
       "      <td>0.017125</td>\n",
       "    </tr>\n",
       "    <tr>\n",
       "      <th>tianqi_中雨</th>\n",
       "      <td>-0.039074</td>\n",
       "      <td>0.021057</td>\n",
       "      <td>0.029961</td>\n",
       "      <td>0.017125</td>\n",
       "      <td>1.000000</td>\n",
       "      <td>-0.002747</td>\n",
       "      <td>-0.002747</td>\n",
       "      <td>-0.004772</td>\n",
       "      <td>-0.003891</td>\n",
       "      <td>-0.002747</td>\n",
       "      <td>...</td>\n",
       "      <td>-0.003891</td>\n",
       "      <td>-0.002747</td>\n",
       "      <td>-0.002747</td>\n",
       "      <td>-0.019154</td>\n",
       "      <td>0.133105</td>\n",
       "      <td>-0.002747</td>\n",
       "      <td>-0.002747</td>\n",
       "      <td>-0.033086</td>\n",
       "      <td>-0.047871</td>\n",
       "      <td>-0.002747</td>\n",
       "    </tr>\n",
       "    <tr>\n",
       "      <th>...</th>\n",
       "      <td>...</td>\n",
       "      <td>...</td>\n",
       "      <td>...</td>\n",
       "      <td>...</td>\n",
       "      <td>...</td>\n",
       "      <td>...</td>\n",
       "      <td>...</td>\n",
       "      <td>...</td>\n",
       "      <td>...</td>\n",
       "      <td>...</td>\n",
       "      <td>...</td>\n",
       "      <td>...</td>\n",
       "      <td>...</td>\n",
       "      <td>...</td>\n",
       "      <td>...</td>\n",
       "      <td>...</td>\n",
       "      <td>...</td>\n",
       "      <td>...</td>\n",
       "      <td>...</td>\n",
       "      <td>...</td>\n",
       "      <td>...</td>\n",
       "    </tr>\n",
       "    <tr>\n",
       "      <th>fengxiang_东风</th>\n",
       "      <td>-0.039074</td>\n",
       "      <td>0.058586</td>\n",
       "      <td>0.062801</td>\n",
       "      <td>-0.053106</td>\n",
       "      <td>-0.002747</td>\n",
       "      <td>-0.002747</td>\n",
       "      <td>-0.002747</td>\n",
       "      <td>-0.004772</td>\n",
       "      <td>-0.003891</td>\n",
       "      <td>-0.002747</td>\n",
       "      <td>...</td>\n",
       "      <td>-0.003891</td>\n",
       "      <td>-0.002747</td>\n",
       "      <td>-0.002747</td>\n",
       "      <td>-0.019154</td>\n",
       "      <td>-0.020640</td>\n",
       "      <td>1.000000</td>\n",
       "      <td>-0.002747</td>\n",
       "      <td>-0.033086</td>\n",
       "      <td>-0.047871</td>\n",
       "      <td>-0.002747</td>\n",
       "    </tr>\n",
       "    <tr>\n",
       "      <th>fengxiang_南风</th>\n",
       "      <td>0.114282</td>\n",
       "      <td>-0.057753</td>\n",
       "      <td>-0.064910</td>\n",
       "      <td>-0.053106</td>\n",
       "      <td>-0.002747</td>\n",
       "      <td>-0.002747</td>\n",
       "      <td>-0.002747</td>\n",
       "      <td>-0.004772</td>\n",
       "      <td>-0.003891</td>\n",
       "      <td>-0.002747</td>\n",
       "      <td>...</td>\n",
       "      <td>-0.003891</td>\n",
       "      <td>-0.002747</td>\n",
       "      <td>-0.002747</td>\n",
       "      <td>-0.019154</td>\n",
       "      <td>-0.020640</td>\n",
       "      <td>-0.002747</td>\n",
       "      <td>1.000000</td>\n",
       "      <td>-0.033086</td>\n",
       "      <td>-0.047871</td>\n",
       "      <td>-0.002747</td>\n",
       "    </tr>\n",
       "    <tr>\n",
       "      <th>fengxiang_西北风</th>\n",
       "      <td>-0.062132</td>\n",
       "      <td>-0.159260</td>\n",
       "      <td>-0.164819</td>\n",
       "      <td>0.059849</td>\n",
       "      <td>-0.033086</td>\n",
       "      <td>-0.033086</td>\n",
       "      <td>-0.033086</td>\n",
       "      <td>0.009762</td>\n",
       "      <td>-0.046855</td>\n",
       "      <td>-0.033086</td>\n",
       "      <td>...</td>\n",
       "      <td>-0.046855</td>\n",
       "      <td>-0.033086</td>\n",
       "      <td>-0.033086</td>\n",
       "      <td>-0.230676</td>\n",
       "      <td>-0.248571</td>\n",
       "      <td>-0.033086</td>\n",
       "      <td>-0.033086</td>\n",
       "      <td>1.000000</td>\n",
       "      <td>-0.576533</td>\n",
       "      <td>-0.033086</td>\n",
       "    </tr>\n",
       "    <tr>\n",
       "      <th>fengxiang_西南风</th>\n",
       "      <td>0.156216</td>\n",
       "      <td>-0.073897</td>\n",
       "      <td>-0.107241</td>\n",
       "      <td>0.187820</td>\n",
       "      <td>-0.047871</td>\n",
       "      <td>0.057388</td>\n",
       "      <td>-0.047871</td>\n",
       "      <td>-0.022205</td>\n",
       "      <td>0.006739</td>\n",
       "      <td>-0.047871</td>\n",
       "      <td>...</td>\n",
       "      <td>0.006739</td>\n",
       "      <td>-0.047871</td>\n",
       "      <td>0.057388</td>\n",
       "      <td>-0.333760</td>\n",
       "      <td>-0.359652</td>\n",
       "      <td>-0.047871</td>\n",
       "      <td>-0.047871</td>\n",
       "      <td>-0.576533</td>\n",
       "      <td>1.000000</td>\n",
       "      <td>-0.047871</td>\n",
       "    </tr>\n",
       "    <tr>\n",
       "      <th>fengxiang_西风</th>\n",
       "      <td>0.012044</td>\n",
       "      <td>-0.087776</td>\n",
       "      <td>-0.083155</td>\n",
       "      <td>0.017125</td>\n",
       "      <td>-0.002747</td>\n",
       "      <td>-0.002747</td>\n",
       "      <td>-0.002747</td>\n",
       "      <td>-0.004772</td>\n",
       "      <td>-0.003891</td>\n",
       "      <td>-0.002747</td>\n",
       "      <td>...</td>\n",
       "      <td>-0.003891</td>\n",
       "      <td>-0.002747</td>\n",
       "      <td>-0.002747</td>\n",
       "      <td>-0.019154</td>\n",
       "      <td>-0.020640</td>\n",
       "      <td>-0.002747</td>\n",
       "      <td>-0.002747</td>\n",
       "      <td>-0.033086</td>\n",
       "      <td>-0.047871</td>\n",
       "      <td>1.000000</td>\n",
       "    </tr>\n",
       "  </tbody>\n",
       "</table>\n",
       "<p>64 rows × 64 columns</p>\n",
       "</div>"
      ],
      "text/plain": [
       "               aqiLevel  max_temp  min_temp  wind_power  tianqi_中雨  \\\n",
       "aqiLevel       1.000000 -0.391921 -0.446463   -0.039275  -0.039074   \n",
       "max_temp      -0.391921  1.000000  0.979039    0.082435   0.021057   \n",
       "min_temp      -0.446463  0.979039  1.000000    0.057815   0.029961   \n",
       "wind_power    -0.039275  0.082435  0.057815    1.000000   0.017125   \n",
       "tianqi_中雨     -0.039074  0.021057  0.029961    0.017125   1.000000   \n",
       "...                 ...       ...       ...         ...        ...   \n",
       "fengxiang_东风  -0.039074  0.058586  0.062801   -0.053106  -0.002747   \n",
       "fengxiang_南风   0.114282 -0.057753 -0.064910   -0.053106  -0.002747   \n",
       "fengxiang_西北风 -0.062132 -0.159260 -0.164819    0.059849  -0.033086   \n",
       "fengxiang_西南风  0.156216 -0.073897 -0.107241    0.187820  -0.047871   \n",
       "fengxiang_西风   0.012044 -0.087776 -0.083155    0.017125  -0.002747   \n",
       "\n",
       "               tianqi_中雨~多云  tianqi_中雨~大雨  tianqi_中雨~小雨  tianqi_中雨~雷阵雨  \\\n",
       "aqiLevel          -0.039074     -0.039074     -0.067865      -0.055335   \n",
       "max_temp           0.036069      0.032316      0.071336       0.077653   \n",
       "min_temp           0.037259      0.033610      0.102737       0.091520   \n",
       "wind_power         0.017125      0.087356     -0.010917       0.024251   \n",
       "tianqi_中雨         -0.002747     -0.002747     -0.004772      -0.003891   \n",
       "...                     ...           ...           ...            ...   \n",
       "fengxiang_东风      -0.002747     -0.002747     -0.004772      -0.003891   \n",
       "fengxiang_南风      -0.002747     -0.002747     -0.004772      -0.003891   \n",
       "fengxiang_西北风     -0.033086     -0.033086      0.009762      -0.046855   \n",
       "fengxiang_西南风      0.057388     -0.047871     -0.022205       0.006739   \n",
       "fengxiang_西风      -0.002747     -0.002747     -0.004772      -0.003891   \n",
       "\n",
       "               tianqi_中雪~多云  ...  tianqi_雷阵雨~阵雨  tianqi_雾~小雪  tianqi_霾~多云  \\\n",
       "aqiLevel           0.012044  ...      -0.055335     0.063163     0.165400   \n",
       "max_temp          -0.046495  ...       0.082967    -0.084024    -0.065259   \n",
       "min_temp          -0.046666  ...       0.083769    -0.086804    -0.061261   \n",
       "wind_power         0.087356  ...      -0.025478     0.017125    -0.053106   \n",
       "tianqi_中雨         -0.002747  ...      -0.003891    -0.002747    -0.002747   \n",
       "...                     ...  ...            ...          ...          ...   \n",
       "fengxiang_东风      -0.002747  ...      -0.003891    -0.002747    -0.002747   \n",
       "fengxiang_南风      -0.002747  ...      -0.003891    -0.002747    -0.002747   \n",
       "fengxiang_西北风     -0.033086  ...      -0.046855    -0.033086    -0.033086   \n",
       "fengxiang_西南风     -0.047871  ...       0.006739    -0.047871     0.057388   \n",
       "fengxiang_西风      -0.002747  ...      -0.003891    -0.002747    -0.002747   \n",
       "\n",
       "               fengxiang_东北风  fengxiang_东南风  fengxiang_东风  fengxiang_南风  \\\n",
       "aqiLevel           -0.148100      -0.019240     -0.039074      0.114282   \n",
       "max_temp            0.167500       0.173736      0.058586     -0.057753   \n",
       "min_temp            0.204154       0.194881      0.062801     -0.064910   \n",
       "wind_power         -0.142512      -0.205154     -0.053106     -0.053106   \n",
       "tianqi_中雨          -0.019154       0.133105     -0.002747     -0.002747   \n",
       "...                      ...            ...           ...           ...   \n",
       "fengxiang_东风       -0.019154      -0.020640      1.000000     -0.002747   \n",
       "fengxiang_南风       -0.019154      -0.020640     -0.002747      1.000000   \n",
       "fengxiang_西北风      -0.230676      -0.248571     -0.033086     -0.033086   \n",
       "fengxiang_西南风      -0.333760      -0.359652     -0.047871     -0.047871   \n",
       "fengxiang_西风       -0.019154      -0.020640     -0.002747     -0.002747   \n",
       "\n",
       "               fengxiang_西北风  fengxiang_西南风  fengxiang_西风  \n",
       "aqiLevel           -0.062132       0.156216      0.012044  \n",
       "max_temp           -0.159260      -0.073897     -0.087776  \n",
       "min_temp           -0.164819      -0.107241     -0.083155  \n",
       "wind_power          0.059849       0.187820      0.017125  \n",
       "tianqi_中雨          -0.033086      -0.047871     -0.002747  \n",
       "...                      ...            ...           ...  \n",
       "fengxiang_东风       -0.033086      -0.047871     -0.002747  \n",
       "fengxiang_南风       -0.033086      -0.047871     -0.002747  \n",
       "fengxiang_西北风       1.000000      -0.576533     -0.033086  \n",
       "fengxiang_西南风      -0.576533       1.000000     -0.047871  \n",
       "fengxiang_西风       -0.033086      -0.047871      1.000000  \n",
       "\n",
       "[64 rows x 64 columns]"
      ]
     },
     "execution_count": 21,
     "metadata": {},
     "output_type": "execute_result"
    }
   ],
   "source": [
    "corr_2=std_data.corr()\n",
    "corr_2\n",
    "# f, ax = plt.subplots(figsize=(18, 6))\n",
    "# sns.heatmap(corr_2, square=True)"
   ]
  },
  {
   "cell_type": "markdown",
   "metadata": {},
   "source": [
    "### KNN"
   ]
  },
  {
   "cell_type": "code",
   "execution_count": 22,
   "metadata": {},
   "outputs": [],
   "source": [
    "y=data_digited['aqiLevel']\n",
    "x=data_digited.drop('aqiLevel',axis=1)"
   ]
  },
  {
   "cell_type": "code",
   "execution_count": 23,
   "metadata": {},
   "outputs": [],
   "source": [
    "y=np.where(y>=3,1,0)"
   ]
  },
  {
   "cell_type": "code",
   "execution_count": 24,
   "metadata": {},
   "outputs": [
    {
     "data": {
      "text/plain": [
       "0    309\n",
       "1     56\n",
       "dtype: int64"
      ]
     },
     "execution_count": 24,
     "metadata": {},
     "output_type": "execute_result"
    }
   ],
   "source": [
    "pd.Series(y).value_counts()"
   ]
  },
  {
   "cell_type": "code",
   "execution_count": 34,
   "metadata": {},
   "outputs": [
    {
     "name": "stdout",
     "output_type": "stream",
     "text": [
      "-0.15873015873015883 2\n",
      "-0.17160493827160495 3\n",
      "-0.14424603174603168 4\n",
      "-0.06139682539682534 5\n",
      "-0.01710758377425048 6\n",
      "-0.00029154518950447184 7\n",
      "0.0784474206349206 8\n"
     ]
    }
   ],
   "source": [
    "X_train, X_test, y_train, y_test = train_test_split(x, y, test_size=0.2)\n",
    "standarScaler = StandardScaler()\n",
    "standarScaler.fit(X_train)\n",
    "\n",
    "X_train_std = standarScaler.transform(X_train)\n",
    "X_test_std = standarScaler.transform(X_test)\n",
    "# 模型训练和测试\n",
    "for i in range(2,9):\n",
    "    knn_clf = KNeighborsRegressor(n_neighbors=i)\n",
    "    knn_clf.fit(X_train,y_train)\n",
    "    score = knn_clf.score(X_test, y_test)\n",
    "\n",
    "    print(score,i)"
   ]
  },
  {
   "cell_type": "code",
   "execution_count": 26,
   "metadata": {},
   "outputs": [],
   "source": [
    "# knn_clf.predict(X_test_std[:10])"
   ]
  },
  {
   "cell_type": "code",
   "execution_count": 24,
   "metadata": {},
   "outputs": [],
   "source": [
    "# y_test[:10]"
   ]
  },
  {
   "cell_type": "markdown",
   "metadata": {},
   "source": [
    "### 线性回归"
   ]
  },
  {
   "cell_type": "code",
   "execution_count": 118,
   "metadata": {},
   "outputs": [
    {
     "name": "stdout",
     "output_type": "stream",
     "text": [
      "-4.6170925010678546e+20\n"
     ]
    }
   ],
   "source": [
    "from sklearn.linear_model import LinearRegression\n",
    "X_train, X_test, y_train, y_test = \\\n",
    "    train_test_split(x, y, test_size=0.2)\n",
    "\n",
    "lin_reg = LinearRegression()\n",
    "\n",
    "# standardScaler = StandardScaler()\n",
    "\n",
    "# X_standard = standardScaler.fit_transform(X_train)\n",
    "\n",
    "# standardScaler.fit(y_test)\n",
    "# x_test_standard = standardScaler.transform(X_test)\n",
    "\n",
    "lin_reg.fit(X_train, y_train)\n",
    "\n",
    "# 打印结果\n",
    "# print(lin_reg.coef_)\n",
    "# print(lin_reg.intercept_)\n",
    "print(lin_reg.score(X_test, y_test))"
   ]
  },
  {
   "cell_type": "code",
   "execution_count": 26,
   "metadata": {},
   "outputs": [
    {
     "data": {
      "text/plain": [
       "1.0    0.509589\n",
       "2.0    0.336986\n",
       "3.0    0.071233\n",
       "4.0    0.046575\n",
       "5.0    0.032877\n",
       "6.0    0.002740\n",
       "Name: aqiLevel, dtype: float64"
      ]
     },
     "execution_count": 26,
     "metadata": {},
     "output_type": "execute_result"
    }
   ],
   "source": [
    "y.value_counts(normalize=True)"
   ]
  },
  {
   "cell_type": "markdown",
   "metadata": {},
   "source": [
    "## svm"
   ]
  },
  {
   "cell_type": "code",
   "execution_count": 117,
   "metadata": {},
   "outputs": [
    {
     "data": {
      "text/plain": [
       "0.9863013698630136"
      ]
     },
     "execution_count": 117,
     "metadata": {},
     "output_type": "execute_result"
    }
   ],
   "source": [
    "from sklearn.svm import LinearSVC,SVC\n",
    "from matplotlib.colors import ListedColormap\n",
    "X_train, X_test, y_train, y_test = train_test_split(x, y, test_size=0.2)\n",
    "# 归一化尺度\n",
    "standardScaler = StandardScaler()\n",
    "X_standard = standardScaler.fit_transform(X_train)\n",
    "\n",
    "# standardScaler.fit(y_test)\n",
    "x_test_standard = standardScaler.transform(X_test)\n",
    "\n",
    "model = LinearSVC(C=1) #C=1:0.9333333333333333   C=1000000 0.9666666666666667\n",
    "model.fit(X_standard, y_train)\n",
    "model.score(x_test_standard,y_test)"
   ]
  },
  {
   "cell_type": "code",
   "execution_count": 28,
   "metadata": {},
   "outputs": [],
   "source": [
    "# model.predict(x[:20])"
   ]
  },
  {
   "cell_type": "code",
   "execution_count": 29,
   "metadata": {},
   "outputs": [],
   "source": [
    "# y[:20]"
   ]
  },
  {
   "cell_type": "markdown",
   "metadata": {},
   "source": [
    "### 多项式特征"
   ]
  },
  {
   "cell_type": "code",
   "execution_count": 94,
   "metadata": {},
   "outputs": [],
   "source": [
    "x2=x.copy()\n",
    "y2=y.copy()"
   ]
  },
  {
   "cell_type": "code",
   "execution_count": 95,
   "metadata": {},
   "outputs": [
    {
     "data": {
      "text/plain": [
       "(365, 2080)"
      ]
     },
     "execution_count": 95,
     "metadata": {},
     "output_type": "execute_result"
    }
   ],
   "source": [
    "from sklearn.preprocessing import PolynomialFeatures\n",
    "poly=PolynomialFeatures(degree=2,include_bias=False,interaction_only=True)\n",
    "x2_ploy=poly.fit_transform(x2)\n",
    "x2_ploy.shape"
   ]
  },
  {
   "cell_type": "code",
   "execution_count": 114,
   "metadata": {},
   "outputs": [
    {
     "name": "stderr",
     "output_type": "stream",
     "text": [
      "/Library/Frameworks/Python.framework/Versions/3.8/lib/python3.8/site-packages/sklearn/svm/_base.py:946: ConvergenceWarning: Liblinear failed to converge, increase the number of iterations.\n",
      "  warnings.warn(\"Liblinear failed to converge, increase \"\n"
     ]
    },
    {
     "data": {
      "text/plain": [
       "0.9726027397260274"
      ]
     },
     "execution_count": 114,
     "metadata": {},
     "output_type": "execute_result"
    }
   ],
   "source": [
    "X_train, X_test, y_train, y_test = train_test_split(x2_ploy, y2, test_size=0.2)\n",
    "# 归一化尺度\n",
    "standardScaler = StandardScaler()\n",
    "X_standard = standardScaler.fit_transform(X_train)\n",
    "\n",
    "# standardScaler.fit(y_test)\n",
    "x_test_standard = standardScaler.transform(X_test)\n",
    "\n",
    "model = LinearSVC(C=1) #C=1:0.9333333333333333   C=1000000 0.9666666666666667\n",
    "model.fit(X_standard, y_train)\n",
    "model.score(x_test_standard,y_test)"
   ]
  },
  {
   "cell_type": "code",
   "execution_count": 104,
   "metadata": {},
   "outputs": [
    {
     "data": {
      "text/plain": [
       "0.9315068493150684"
      ]
     },
     "execution_count": 104,
     "metadata": {},
     "output_type": "execute_result"
    }
   ],
   "source": [
    "from sklearn.linear_model import LogisticRegression\n",
    "\n",
    "X_train, X_test, y_train, y_test = train_test_split(x2_ploy, y2, test_size=0.2)\n",
    "# 归一化尺度\n",
    "standardScaler = StandardScaler()\n",
    "X_standard = standardScaler.fit_transform(X_train)\n",
    "\n",
    "# standardScaler.fit(y_test)\n",
    "x_test_standard = standardScaler.transform(X_test)\n",
    "\n",
    "model = LogisticRegression()\n",
    "model.fit(X_standard, y_train)\n",
    "model.score(x_test_standard,y_test)"
   ]
  }
 ],
 "metadata": {
  "kernelspec": {
   "display_name": "Python 3",
   "language": "python",
   "name": "python3"
  },
  "language_info": {
   "codemirror_mode": {
    "name": "ipython",
    "version": 3
   },
   "file_extension": ".py",
   "mimetype": "text/x-python",
   "name": "python",
   "nbconvert_exporter": "python",
   "pygments_lexer": "ipython3",
   "version": "3.9.2"
  }
 },
 "nbformat": 4,
 "nbformat_minor": 4
}
