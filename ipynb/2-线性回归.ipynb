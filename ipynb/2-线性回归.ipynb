{
 "cells": [
  {
   "cell_type": "code",
   "execution_count": 7,
   "id": "8bef6495",
   "metadata": {},
   "outputs": [],
   "source": [
    "import numpy as np\n",
    "\n",
    "import numpy.linalg as lg"
   ]
  },
  {
   "cell_type": "code",
   "execution_count": 10,
   "id": "cdf2d4f2",
   "metadata": {},
   "outputs": [
    {
     "data": {
      "text/plain": [
       "array([[ 0.10412318,  1.28506879,  0.40933699, -0.2249965 ],\n",
       "       [-1.62258513,  1.35851855, -0.43090379,  2.20702716],\n",
       "       [ 0.28402101, -1.51907106, -0.97421055, -0.29322378],\n",
       "       [ 0.3510197 , -1.55732752, -2.14091637, -0.34147563]])"
      ]
     },
     "execution_count": 10,
     "metadata": {},
     "output_type": "execute_result"
    }
   ],
   "source": [
    "ma=np.random.randn(4,4)\n",
    "ma"
   ]
  },
  {
   "cell_type": "code",
   "execution_count": 12,
   "id": "bf9b7e42",
   "metadata": {},
   "outputs": [
    {
     "data": {
      "text/plain": [
       "array([[-125.85605445,  -28.95894271, -213.07190539,   78.72230807],\n",
       "       [  -3.85762071,   -0.97303083,   -7.94101357,    3.07178511],\n",
       "       [  -3.34533081,   -0.78771394,   -4.80307515,    1.23744571],\n",
       "       [ -90.80677947,  -20.3920908 , -152.69814524,   56.22667066]])"
      ]
     },
     "execution_count": 12,
     "metadata": {},
     "output_type": "execute_result"
    }
   ],
   "source": [
    "lg.inv(ma)\n",
    "\n",
    "# lg.det(ma)"
   ]
  },
  {
   "cell_type": "code",
   "execution_count": 13,
   "id": "a59a6ef8",
   "metadata": {},
   "outputs": [
    {
     "data": {
      "text/plain": [
       "array([[ 1.00000000e+00, -5.02432267e-16, -6.59767010e-15,\n",
       "        -4.26573771e-16],\n",
       "       [-1.35502219e-14,  1.00000000e+00,  7.60433394e-14,\n",
       "        -2.94361987e-16],\n",
       "       [ 4.35047706e-15,  5.46779829e-16,  1.00000000e+00,\n",
       "        -1.72294557e-15],\n",
       "       [ 9.03389305e-15, -6.40686285e-16, -7.95896145e-15,\n",
       "         1.00000000e+00]])"
      ]
     },
     "execution_count": 13,
     "metadata": {},
     "output_type": "execute_result"
    }
   ],
   "source": [
    "ma.dot(lg.inv(ma))"
   ]
  },
  {
   "cell_type": "code",
   "execution_count": 36,
   "id": "f193b818",
   "metadata": {},
   "outputs": [
    {
     "data": {
      "image/png": "[encoded data removed]",
      "text/plain": [
       "<Figure size 432x288 with 1 Axes>"
      ]
     },
     "metadata": {
      "needs_background": "light"
     },
     "output_type": "display_data"
    }
   ],
   "source": [
    "data=np.array([[70,250],[100,290],[150,300]])\n",
    "\n",
    "import matplotlib.pyplot as plt\n",
    "\n",
    "plt.scatter(data[:,0],data[:,1])\n",
    "plt.xlim(0,200)\n",
    "plt.show()\n",
    "\n"
   ]
  },
  {
   "cell_type": "markdown",
   "id": "ede5953f",
   "metadata": {},
   "source": [
    "y=ax+b\n",
    "\n",
    "70a+b=210\n",
    "100a+b=280\n",
    "150a+b=380\n",
    "\n",
    "Ax=b\n",
    "\n",
    "x=A-1b\n",
    "\n",
    "\n",
    "[\n",
    "    [70,1],\n",
    "    [100,1],\n",
    "    [150,1]\n",
    "]\n",
    "\n",
    "[\n",
    "    [a],\n",
    "    [b]\n",
    "]\n",
    "\n",
    "[\n",
    "    [210],\n",
    "    [280],\n",
    "    [380]\n",
    "]\n",
    "\n"
   ]
  },
  {
   "cell_type": "code",
   "execution_count": 57,
   "id": "186ae424",
   "metadata": {},
   "outputs": [
    {
     "data": {
      "text/plain": [
       "array([[  1.33333333],\n",
       "       [156.66666667]])"
      ]
     },
     "execution_count": 57,
     "metadata": {},
     "output_type": "execute_result"
    }
   ],
   "source": [
    "A=[[70,1],[100,1]]\n",
    "b=[[250],[290]]\n",
    "\n",
    "res=lg.solve(A,b)\n",
    "res"
   ]
  },
  {
   "cell_type": "code",
   "execution_count": 71,
   "id": "1dc8a7c8",
   "metadata": {},
   "outputs": [],
   "source": [
    "# y=res[0]*a+res[1]\n",
    "\n",
    "x=np.arange(0,200)\n",
    "y=res[0]*x+res[1]"
   ]
  },
  {
   "cell_type": "code",
   "execution_count": 72,
   "id": "c9985b66",
   "metadata": {},
   "outputs": [
    {
     "data": {
      "image/png": "[encoded data removed]",
      "text/plain": [
       "<Figure size 432x288 with 1 Axes>"
      ]
     },
     "metadata": {
      "needs_background": "light"
     },
     "output_type": "display_data"
    }
   ],
   "source": [
    "plt.scatter(data[:,0],data[:,1])\n",
    "plt.plot(x,y)\n",
    "plt.xlim(0,200)\n",
    "plt.ylim(240,350)\n",
    "plt.show()\n"
   ]
  },
  {
   "cell_type": "code",
   "execution_count": 60,
   "id": "a838264a",
   "metadata": {},
   "outputs": [
    {
     "data": {
      "text/plain": [
       "array([423.33333333])"
      ]
     },
     "execution_count": 60,
     "metadata": {},
     "output_type": "execute_result"
    }
   ],
   "source": [
    "res[0]*200+res[1]"
   ]
  },
  {
   "cell_type": "code",
   "execution_count": 62,
   "id": "faa413a3",
   "metadata": {},
   "outputs": [],
   "source": [
    "A1=[[70,1],[100,1],[150,1]]\n",
    "b1=[[250],[290],[300]]\n",
    "\n",
    "r=lg.lstsq(A1,b1,rcond=-1)"
   ]
  },
  {
   "cell_type": "code",
   "execution_count": 74,
   "id": "f9b84264",
   "metadata": {},
   "outputs": [
    {
     "data": {
      "text/plain": [
       "(array([[  0.58163265],\n",
       "        [217.95918367]]),\n",
       " array([294.89795918]),\n",
       " 2,\n",
       " array([193.39787483,   0.51187196]))"
      ]
     },
     "execution_count": 74,
     "metadata": {},
     "output_type": "execute_result"
    }
   ],
   "source": [
    "r"
   ]
  },
  {
   "cell_type": "code",
   "execution_count": 80,
   "id": "a070c090",
   "metadata": {},
   "outputs": [
    {
     "data": {
      "text/plain": [
       "217.95918367346957"
      ]
     },
     "execution_count": 80,
     "metadata": {},
     "output_type": "execute_result"
    }
   ],
   "source": [
    "a1=r[0][0][0]\n",
    "\n",
    "b1=r[0][1][0]\n",
    "\n",
    "\n",
    "# x1=np.arange(25,200)\n",
    "# y=a1*x+b"
   ]
  },
  {
   "cell_type": "code",
   "execution_count": 81,
   "id": "ce2aa74a",
   "metadata": {},
   "outputs": [
    {
     "data": {
      "image/png": "[encoded data removed]",
      "text/plain": [
       "<Figure size 432x288 with 1 Axes>"
      ]
     },
     "metadata": {
      "needs_background": "light"
     },
     "output_type": "display_data"
    }
   ],
   "source": [
    "x1=np.arange(0,200)\n",
    "y1=a1*x+b1\n",
    "\n",
    "# y1=x1a1+x2*a2...x6*a6+b\n",
    "\n",
    "\n",
    "plt.scatter(data[:,0],data[:,1])\n",
    "plt.plot(x1,y1)\n",
    "plt.xlim(0,200)\n",
    "plt.ylim(240,350)\n",
    "plt.show()"
   ]
  },
  {
   "cell_type": "code",
   "execution_count": null,
   "id": "0400d16f",
   "metadata": {},
   "outputs": [],
   "source": []
  }
 ],
 "metadata": {
  "kernelspec": {
   "display_name": "Python 3",
   "language": "python",
   "name": "python3"
  },
  "language_info": {
   "codemirror_mode": {
    "name": "ipython",
    "version": 3
   },
   "file_extension": ".py",
   "mimetype": "text/x-python",
   "name": "python",
   "nbconvert_exporter": "python",
   "pygments_lexer": "ipython3",
   "version": "3.9.2"
  }
 },
 "nbformat": 4,
 "nbformat_minor": 5
}
