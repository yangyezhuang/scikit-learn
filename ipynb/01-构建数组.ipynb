{
 "cells": [
  {
   "cell_type": "markdown",
   "id": "ccdebedc",
   "metadata": {},
   "source": [
    "### numpy"
   ]
  },
  {
   "cell_type": "markdown",
   "id": "a79fe2c6",
   "metadata": {},
   "source": [
    "#### 1. 简介\n",
    "    * ndarray，一个具有矢量算术运算和复杂广播能力的快速且节省空间的多维数组。\n",
    "    * 高效处理大数组的数据\n",
    "    * NumPy可以在整个数组上执行复杂的计算，而不需要Python的for循环。"
   ]
  },
  {
   "cell_type": "markdown",
   "id": "39a72833",
   "metadata": {},
   "source": [
    "#### 2. 构建数组"
   ]
  },
  {
   "cell_type": "code",
   "execution_count": 2,
   "id": "fe06085d",
   "metadata": {},
   "outputs": [],
   "source": [
    "import numpy as np #导入numpy库"
   ]
  },
  {
   "cell_type": "markdown",
   "id": "0b275553",
   "metadata": {},
   "source": [
    "1. list 转化为 array "
   ]
  },
  {
   "cell_type": "code",
   "execution_count": 4,
   "id": "487898fd",
   "metadata": {},
   "outputs": [
    {
     "data": {
      "text/plain": [
       "numpy.ndarray"
      ]
     },
     "execution_count": 4,
     "metadata": {},
     "output_type": "execute_result"
    }
   ],
   "source": [
    "list01 = [1,3,5,7]\n",
    "array01=np.array(list01)\n",
    "array01\n",
    "type(array01)"
   ]
  },
  {
   "cell_type": "markdown",
   "id": "8ef747fa",
   "metadata": {},
   "source": [
    "2. 构建随机数组"
   ]
  },
  {
   "cell_type": "code",
   "execution_count": 5,
   "id": "6cc721ab",
   "metadata": {},
   "outputs": [
    {
     "data": {
      "text/plain": [
       "0.3235553635537092"
      ]
     },
     "execution_count": 5,
     "metadata": {},
     "output_type": "execute_result"
    }
   ],
   "source": [
    "# 构建随机样本位于[0, 1)中\n",
    "np.random.rand()"
   ]
  },
  {
   "cell_type": "code",
   "execution_count": 6,
   "id": "bee0793b",
   "metadata": {},
   "outputs": [
    {
     "data": {
      "text/plain": [
       "array([[0.0303252 , 0.05213463],\n",
       "       [0.07346083, 0.76621633],\n",
       "       [0.98604691, 0.50709558]])"
      ]
     },
     "execution_count": 6,
     "metadata": {},
     "output_type": "execute_result"
    }
   ],
   "source": [
    "np.random.rand(3,2)"
   ]
  },
  {
   "cell_type": "code",
   "execution_count": 32,
   "id": "26cf2907",
   "metadata": {},
   "outputs": [
    {
     "data": {
      "text/plain": [
       "array([ 0.16462149, -0.17856197,  0.91192145, ...,  0.51696515,\n",
       "        0.09269609, -0.86155679])"
      ]
     },
     "execution_count": 32,
     "metadata": {},
     "output_type": "execute_result"
    }
   ],
   "source": [
    "# 构建正态分布随机数组\n",
    "array02=np.random.randn(10000)\n",
    "array02"
   ]
  },
  {
   "cell_type": "code",
   "execution_count": 33,
   "id": "dad4e3e8",
   "metadata": {},
   "outputs": [
    {
     "data": {
      "text/plain": [
       "(array([3.000e+00, 6.100e+01, 3.470e+02, 1.353e+03, 2.730e+03, 3.035e+03,\n",
       "        1.791e+03, 5.700e+02, 1.010e+02, 9.000e+00]),\n",
       " array([-4.19016865, -3.38014945, -2.57013024, -1.76011104, -0.95009183,\n",
       "        -0.14007263,  0.66994658,  1.47996578,  2.28998499,  3.10000419,\n",
       "         3.9100234 ]),\n",
       " <BarContainer object of 10 artists>)"
      ]
     },
     "execution_count": 33,
     "metadata": {},
     "output_type": "execute_result"
    },
    {
     "data": {
      "image/png": "[encoded data removed]",
      "text/plain": [
       "<Figure size 432x288 with 1 Axes>"
      ]
     },
     "metadata": {
      "needs_background": "light"
     },
     "output_type": "display_data"
    }
   ],
   "source": [
    "import matplotlib.pyplot as plt\n",
    "plt.hist(array02)"
   ]
  },
  {
   "cell_type": "markdown",
   "id": "c10bc6e3",
   "metadata": {},
   "source": [
    "np.random.normal(loc=0.0,scale=1.0,size=None)\n",
    "\n",
    "随机生成高斯分布的样本\n",
    "\n",
    "参数：\n",
    "\n",
    "loc：float类型，均值\n",
    "\n",
    "scale：float类型，标准差\n",
    "\n",
    "size：int或tuple of int类型，样本规模"
   ]
  },
  {
   "cell_type": "code",
   "execution_count": 38,
   "id": "5266bddc",
   "metadata": {},
   "outputs": [
    {
     "name": "stdout",
     "output_type": "stream",
     "text": [
      "[0.00242238 0.00242238 0.97725618 0.01789907]\n",
      "0.9999999999999999\n"
     ]
    }
   ],
   "source": [
    "def softmax(x):\n",
    "    x_row_max = x.max(axis=-1)\n",
    "    x_row_max = x_row_max.reshape(list(x.shape)[:-1]+[1])\n",
    "    x = x - x_row_max\n",
    "    x_exp = np.exp(x)\n",
    "    x_exp_row_sum = x_exp.sum(axis=-1).reshape(list(x.shape)[:-1]+[1])\n",
    "    softmax = x_exp / x_exp_row_sum\n",
    "    return softmax\n",
    "\n",
    "times=np.array([1,1,7,3])\n",
    "\n",
    "prob=softmax(times)\n",
    "\n",
    "print(prob)\n",
    "print(np.sum(prob))"
   ]
  },
  {
   "cell_type": "markdown",
   "id": "542fd87d",
   "metadata": {},
   "source": [
    "随机整数\n",
    "\n",
    "np.random.randint(1,5)\n",
    "\n",
    "np.random.randint(1,5,size=10)\n",
    "\n",
    "np.random.randint(1,5,size=(3,5))"
   ]
  },
  {
   "cell_type": "markdown",
   "id": "615e8ced",
   "metadata": {},
   "source": [
    "shuffle(x) 现场修改序列，改变自身内容。（类似洗牌，打乱顺序）"
   ]
  },
  {
   "cell_type": "code",
   "execution_count": 46,
   "id": "0368575b",
   "metadata": {},
   "outputs": [],
   "source": [
    "array03=np.array([1,2,3,4,5])\n",
    "np.random.shuffle(array03)"
   ]
  },
  {
   "cell_type": "code",
   "execution_count": 47,
   "id": "5b47182e",
   "metadata": {},
   "outputs": [
    {
     "data": {
      "text/plain": [
       "array([3, 4, 1, 5, 2])"
      ]
     },
     "execution_count": 47,
     "metadata": {},
     "output_type": "execute_result"
    }
   ],
   "source": [
    "array03"
   ]
  },
  {
   "cell_type": "markdown",
   "id": "0afbc9ed",
   "metadata": {},
   "source": [
    "随机挑选"
   ]
  },
  {
   "cell_type": "code",
   "execution_count": 50,
   "id": "9882410f",
   "metadata": {},
   "outputs": [
    {
     "data": {
      "text/plain": [
       "array([191, 128, 103, 105, 147])"
      ]
     },
     "execution_count": 50,
     "metadata": {},
     "output_type": "execute_result"
    }
   ],
   "source": [
    "np.random.choice(100,5)\n",
    "np.random.choice(range(100,200),5)"
   ]
  },
  {
   "cell_type": "markdown",
   "id": "a7b68b7d",
   "metadata": {},
   "source": [
    "#### 随机种子"
   ]
  },
  {
   "cell_type": "code",
   "execution_count": 55,
   "id": "27b988ba",
   "metadata": {},
   "outputs": [
    {
     "data": {
      "text/plain": [
       "array([4, 3, 0])"
      ]
     },
     "execution_count": 55,
     "metadata": {},
     "output_type": "execute_result"
    }
   ],
   "source": [
    "# 定义全局种子\n",
    "np.random.seed(121)\n",
    "np.random.rand(3)\n",
    "\n",
    "np.random.choice(5,3)"
   ]
  },
  {
   "cell_type": "code",
   "execution_count": 57,
   "id": "980e46cd",
   "metadata": {},
   "outputs": [
    {
     "data": {
      "text/plain": [
       "array([0.53283302, 0.5341366 , 0.50955304])"
      ]
     },
     "execution_count": 57,
     "metadata": {},
     "output_type": "execute_result"
    }
   ],
   "source": [
    "# 定义局部种子\n",
    "prng = np.random.RandomState(123456789) \n",
    "prng.rand(3)"
   ]
  },
  {
   "cell_type": "markdown",
   "id": "ca0406ac",
   "metadata": {},
   "source": [
    "3. 构建整数数组"
   ]
  },
  {
   "cell_type": "code",
   "execution_count": 65,
   "id": "0d475e0c",
   "metadata": {},
   "outputs": [
    {
     "data": {
      "text/plain": [
       "array([1.        , 1.44444444, 1.88888889, 2.33333333, 2.77777778,\n",
       "       3.22222222, 3.66666667, 4.11111111, 4.55555556, 5.        ])"
      ]
     },
     "execution_count": 65,
     "metadata": {},
     "output_type": "execute_result"
    }
   ],
   "source": [
    "np.arange(10)\n",
    "np.arange(3,10)\n",
    "np.arange(10).reshape(2,5)\n",
    "np.linspace(0, 2, 100) # 0-2 之间均匀分布的100个数"
   ]
  },
  {
   "cell_type": "markdown",
   "id": "3d578860",
   "metadata": {},
   "source": [
    "4. 构建特殊数组"
   ]
  },
  {
   "cell_type": "code",
   "execution_count": 72,
   "id": "fdeb8a7b",
   "metadata": {},
   "outputs": [
    {
     "data": {
      "text/plain": [
       "array([[10, 10, 10, 10],\n",
       "       [10, 10, 10, 10],\n",
       "       [10, 10, 10, 10]])"
      ]
     },
     "execution_count": 72,
     "metadata": {},
     "output_type": "execute_result"
    }
   ],
   "source": [
    "np.eye(4)\n",
    "np.ones((3,4))\n",
    "np.full((3,4),10)"
   ]
  },
  {
   "cell_type": "markdown",
   "id": "a372de19",
   "metadata": {},
   "source": [
    "5. 查看数组信息\n",
    "\n",
    "    array.shape\n",
    "    \n",
    "    array.ndim\n",
    "    "
   ]
  },
  {
   "cell_type": "markdown",
   "id": "c6403836",
   "metadata": {},
   "source": [
    "6. 数组变形\n",
    "\n",
    "    array.reshape()\n",
    "    \n",
    "    array.flatten()"
   ]
  },
  {
   "cell_type": "code",
   "execution_count": 76,
   "id": "794d027a",
   "metadata": {},
   "outputs": [
    {
     "data": {
      "text/plain": [
       "array([ 0,  1,  2,  3,  4,  5,  6,  7,  8,  9, 10, 11])"
      ]
     },
     "execution_count": 76,
     "metadata": {},
     "output_type": "execute_result"
    }
   ],
   "source": [
    "np.arange(12).reshape(3,-1).flatten()"
   ]
  }
 ],
 "metadata": {
  "kernelspec": {
   "display_name": "Python 3",
   "language": "python",
   "name": "python3"
  },
  "language_info": {
   "codemirror_mode": {
    "name": "ipython",
    "version": 3
   },
   "file_extension": ".py",
   "mimetype": "text/x-python",
   "name": "python",
   "nbconvert_exporter": "python",
   "pygments_lexer": "ipython3",
   "version": "3.9.2"
  }
 },
 "nbformat": 4,
 "nbformat_minor": 5
}
